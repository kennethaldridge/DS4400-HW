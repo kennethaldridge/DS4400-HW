{
 "cells": [
  {
   "cell_type": "code",
   "execution_count": 18,
   "metadata": {},
   "outputs": [],
   "source": [
    "# Question 1\n",
    "import numpy as np\n",
    "from numpy import genfromtxt\n",
    "from sklearn import preprocessing\n",
    "\n",
    "# Load stock csv's and assign to y and x\n",
    "stock_price = genfromtxt('stock_price.csv', delimiter=',')  # Predicted \n",
    "y = np.reshape(stock_price, (len(stock_price),1))\n",
    "\n",
    "stock_prediction = genfromtxt('stock_prediction_data.csv', delimiter=',')\n",
    "X = stock_prediction\n",
    "\n",
    "# Preprocessing\n",
    "X = preprocessing.scale(X)"
   ]
  },
  {
   "cell_type": "code",
   "execution_count": 24,
   "metadata": {},
   "outputs": [
    {
     "name": "stdout",
     "output_type": "stream",
     "text": [
      "MSE of sklearn solution [0.04357044]\n"
     ]
    }
   ],
   "source": [
    "# Sklearn linear regression\n",
    "from sklearn.linear_model import LinearRegression\n",
    "reg = LinearRegression().fit(X, y)\n",
    "\n",
    "pred_y = reg.predict(X)\n",
    "\n",
    "sklearn_mse = sum((pred_y[i]-y[i])**2 for i in range(len(y)))/len(y)\n",
    "print(f'MSE of sklearn solution {sklearn_mse}')"
   ]
  },
  {
   "cell_type": "code",
   "execution_count": 17,
   "metadata": {},
   "outputs": [
    {
     "name": "stdout",
     "output_type": "stream",
     "text": [
      "MSE of closed form solution: [13.07113177]\n"
     ]
    }
   ],
   "source": [
    "# Closed form solution\n",
    "def MSE(phi, w, y):\n",
    "    return sum((phi.dot(w)[i]-y[i])**2 for i in range(len(y)))\n",
    "\n",
    "phi = np.hstack((X, np.ones((len(X), 1))))\n",
    "\n",
    "w = np.linalg.inv(phi.T.dot(phi)).dot(phi.T).dot(y)\n",
    "\n",
    "closed_form_error = MSE(phi, w, y)\n",
    "print(f'MSE of closed form solution: {closed_form_error}')"
   ]
  }
 ],
 "metadata": {
  "kernelspec": {
   "display_name": "ds",
   "language": "python",
   "name": "python3"
  },
  "language_info": {
   "codemirror_mode": {
    "name": "ipython",
    "version": 3
   },
   "file_extension": ".py",
   "mimetype": "text/x-python",
   "name": "python",
   "nbconvert_exporter": "python",
   "pygments_lexer": "ipython3",
   "version": "3.11.7"
  }
 },
 "nbformat": 4,
 "nbformat_minor": 2
}
