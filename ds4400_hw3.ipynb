{
 "cells": [
  {
   "cell_type": "code",
   "execution_count": 28,
   "metadata": {},
   "outputs": [],
   "source": [
    "# Question 1\n",
    "import numpy as np\n",
    "from numpy import genfromtxt\n",
    "from sklearn import preprocessing\n",
    "\n",
    "# Load stock csv's and assign to y and x\n",
    "stock_price = genfromtxt('stock_price.csv', delimiter=',')  # Predicted \n",
    "y = np.reshape(stock_price, (len(stock_price),1))\n",
    "\n",
    "stock_prediction = genfromtxt('stock_prediction_data.csv', delimiter=',')\n",
    "X = stock_prediction\n",
    "\n",
    "# Preprocessing\n",
    "X = preprocessing.scale(X)"
   ]
  },
  {
   "cell_type": "code",
   "execution_count": 29,
   "metadata": {},
   "outputs": [
    {
     "name": "stdout",
     "output_type": "stream",
     "text": [
      "MSE of sklearn solution [0.04357044]\n"
     ]
    }
   ],
   "source": [
    "# Sklearn linear regression\n",
    "from sklearn.linear_model import LinearRegression\n",
    "reg = LinearRegression().fit(X, y)\n",
    "\n",
    "pred_y = reg.predict(X)\n",
    "\n",
    "sklearn_mse = sum((pred_y[i]-y[i])**2 for i in range(len(y)))/len(y)\n",
    "print(f'MSE of sklearn solution {sklearn_mse}')"
   ]
  },
  {
   "cell_type": "code",
   "execution_count": 30,
   "metadata": {},
   "outputs": [
    {
     "name": "stdout",
     "output_type": "stream",
     "text": [
      "MSE of closed form solution: [0.04357044]\n"
     ]
    }
   ],
   "source": [
    "# Closed form solution\n",
    "def MSE(phi, w, y):\n",
    "    return sum((phi.dot(w)[i]-y[i])**2 for i in range(len(y)))/len(y)\n",
    "\n",
    "phi = np.hstack((X, np.ones((len(X), 1))))  # Create phi matrix\n",
    "\n",
    "w = np.linalg.inv(phi.T.dot(phi)).dot(phi.T).dot(y)\n",
    "\n",
    "closed_form_error = MSE(phi, w, y)\n",
    "print(f'MSE of closed form solution: {closed_form_error}')"
   ]
  },
  {
   "cell_type": "code",
   "execution_count": 31,
   "metadata": {},
   "outputs": [
    {
     "name": "stdout",
     "output_type": "stream",
     "text": [
      "MSE using gradient descent: [0.07203101]\n"
     ]
    }
   ],
   "source": [
    "# Gradient Descent\n",
    "\n",
    "phi = np.hstack((X, np.ones((len(X), 1)))) # Create phi matrix \n",
    "n = len(y)\n",
    "\n",
    "def f(w, phi, n):\n",
    "    return 1/n * sum((w.T.dot(phi[i, :])-y[i])**2 for i in range(n))\n",
    "\n",
    "def f_prime(w, phi, n):\n",
    "    sigma = sum((w.T.dot(phi[i, :])-y[i]) * phi[i, :] for i in range(n))\n",
    "    return (2/n) * sigma\n",
    "\n",
    "\n",
    "w = np.random.randn(phi.shape[1])\n",
    "eta = 0.002\n",
    "for i in range(1000):\n",
    "    w = w - eta * f_prime(w, phi, n)\n",
    "   \n",
    "print(f'MSE using gradient descent: {f(w, phi, n)}')"
   ]
  },
  {
   "cell_type": "code",
   "execution_count": 33,
   "metadata": {},
   "outputs": [
    {
     "name": "stdout",
     "output_type": "stream",
     "text": [
      "MSE of sklearn polynomial solution [0.03550108]\n"
     ]
    }
   ],
   "source": [
    "# Question 2\n",
    "# Sklearn polynomial regression\n",
    "from sklearn.preprocessing import PolynomialFeatures\n",
    "\n",
    "poly = PolynomialFeatures(2)\n",
    "newX = poly.fit_transform(X)\n",
    "\n",
    "reg = LinearRegression().fit(newX, y)\n",
    "\n",
    "pred_y = reg.predict(newX)\n",
    "\n",
    "sklearn_mse_poly = sum((pred_y[i]-y[i])**2 for i in range(len(y)))/len(y)\n",
    "print(f'MSE of sklearn polynomial solution {sklearn_mse_poly}')"
   ]
  },
  {
   "cell_type": "code",
   "execution_count": 34,
   "metadata": {},
   "outputs": [
    {
     "name": "stdout",
     "output_type": "stream",
     "text": [
      "MSE of closed form solution: [0.03550108]\n"
     ]
    }
   ],
   "source": [
    "# closed form polynomial\n",
    "def MSE(phi, w, y):\n",
    "    return sum((phi.dot(w)[i]-y[i])**2 for i in range(len(y)))/len(y)\n",
    "\n",
    "poly = PolynomialFeatures(2)\n",
    "phi = poly.fit_transform(X)\n",
    "\n",
    "w = np.linalg.inv(phi.T.dot(phi)).dot(phi.T).dot(y)\n",
    "\n",
    "closed_form_error = MSE(phi, w, y)\n",
    "print(f'MSE of closed form solution: {closed_form_error}')"
   ]
  },
  {
   "cell_type": "code",
   "execution_count": 35,
   "metadata": {},
   "outputs": [
    {
     "name": "stdout",
     "output_type": "stream",
     "text": [
      "MSE using gradient descent: [0.65196338]\n"
     ]
    }
   ],
   "source": [
    "# Gradient Descent Polynomial\n",
    "n = len(y)\n",
    "\n",
    "poly = PolynomialFeatures(2)\n",
    "phi = poly.fit_transform(X)\n",
    "\n",
    "def f(w, phi, n):\n",
    "    return 1/n * sum((w.T.dot(phi[i, :])-y[i])**2 for i in range(n))\n",
    "\n",
    "def f_prime(w, phi, n):\n",
    "    sigma = sum((w.T.dot(phi[i, :])-y[i]) * phi[i, :] for i in range(n))\n",
    "    return (2/n) * sigma\n",
    "\n",
    "\n",
    "w = np.random.randn(phi.shape[1])\n",
    "eta = 0.002\n",
    "for i in range(1000):\n",
    "    w = w - eta * f_prime(w, phi, n)\n",
    "   \n",
    "print(f'MSE using gradient descent: {f(w, phi, n)}')"
   ]
  },
  {
   "cell_type": "code",
   "execution_count": 42,
   "metadata": {},
   "outputs": [
    {
     "name": "stdout",
     "output_type": "stream",
     "text": [
      "The best a: [-0.7]\n",
      "The best b: [1.3]\n"
     ]
    }
   ],
   "source": [
    "# Question 3\n",
    "x = np.array([[0], [1], [2], [3]])\n",
    "y = np.array([[1], [0], [2], [-2]])\n",
    "\n",
    "phi = np.hstack((x, np.ones((len(x), 1))))\n",
    "\n",
    "w = np.linalg.inv(phi.T.dot(phi)).dot(phi.T).dot(y)\n",
    "print(f'The best a: {w[0]}')\n",
    "print(f'The best b: {w[1]}')"
   ]
  },
  {
   "cell_type": "code",
   "execution_count": null,
   "metadata": {},
   "outputs": [],
   "source": [
    "# Question 6"
   ]
  }
 ],
 "metadata": {
  "kernelspec": {
   "display_name": "ds",
   "language": "python",
   "name": "python3"
  },
  "language_info": {
   "codemirror_mode": {
    "name": "ipython",
    "version": 3
   },
   "file_extension": ".py",
   "mimetype": "text/x-python",
   "name": "python",
   "nbconvert_exporter": "python",
   "pygments_lexer": "ipython3",
   "version": "3.11.7"
  }
 },
 "nbformat": 4,
 "nbformat_minor": 2
}
