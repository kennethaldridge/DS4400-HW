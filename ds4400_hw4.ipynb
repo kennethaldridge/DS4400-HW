{
 "cells": [
  {
   "cell_type": "markdown",
   "metadata": {},
   "source": [
    "# Question 1"
   ]
  },
  {
   "cell_type": "code",
   "execution_count": null,
   "metadata": {},
   "outputs": [
    {
     "name": "stdout",
     "output_type": "stream",
     "text": [
      "Variance for a): 17.2\n"
     ]
    }
   ],
   "source": [
    "# 2)\n",
    "import numpy as np\n",
    "# a)\n",
    "sample = np.array([4, 7, 9, 11, 15])\n",
    "var = np.var(sample, ddof=1)  # use ddof of 1 because sample\n",
    "print(f'Variance for a): {var}')"
   ]
  },
  {
   "cell_type": "code",
   "execution_count": null,
   "metadata": {},
   "outputs": [
    {
     "name": "stdout",
     "output_type": "stream",
     "text": [
      "Variance for b): 68.26666666666668\n"
     ]
    }
   ],
   "source": [
    "# b)\n",
    "sample = np.array([18, 22, 25, 30, 35, 40])\n",
    "var = np.var(sample, ddof=1)  # use ddof of 1 because sample\n",
    "print(f'Variance for b): {var}')"
   ]
  },
  {
   "cell_type": "code",
   "execution_count": 7,
   "metadata": {},
   "outputs": [
    {
     "name": "stdout",
     "output_type": "stream",
     "text": [
      "Variance for a): 8.0\n"
     ]
    }
   ],
   "source": [
    "# 4)\n",
    "\n",
    "# a)\n",
    "sample = np.array([12, 14, 16, 18, 20])\n",
    "var = np.var(sample, ddof=0)  # use ddof 0 for population\n",
    "print(f'Variance for a): {var}')"
   ]
  },
  {
   "cell_type": "code",
   "execution_count": 8,
   "metadata": {},
   "outputs": [
    {
     "name": "stdout",
     "output_type": "stream",
     "text": [
      "Variance for b): 46.666666666666664\n"
     ]
    }
   ],
   "source": [
    "# b)\n",
    "sample = np.array([28, 32, 36, 40, 44, 48])\n",
    "var = np.var(sample, ddof=0)  # use ddof 0 for population\n",
    "print(f'Variance for b): {var}')"
   ]
  },
  {
   "cell_type": "markdown",
   "metadata": {},
   "source": [
    "5)\n",
    "a): They key difference between empirical and population variance calculations is when calculation the empirical variance, the denominator used is n-1 while for the population variance the denominator used is n <br>\n",
    "b): An example of where you would want to use population variance over empirical variance is for example if you wanted to find the variance of the ages of kids in a specific class. However, if you wanted to find the variance in ages for an entire school, it would be better to take a sample of kids' ages and then use the empirical variance in your calculation."
   ]
  },
  {
   "cell_type": "markdown",
   "metadata": {},
   "source": [
    "# Question 2"
   ]
  },
  {
   "cell_type": "code",
   "execution_count": 40,
   "metadata": {},
   "outputs": [
    {
     "name": "stdout",
     "output_type": "stream",
     "text": [
      "W after two steps of gradient descent: [[-65.]\n",
      " [-18.]\n",
      " [ 31.]\n",
      " [ 41.]]\n"
     ]
    }
   ],
   "source": [
    "import numpy as np\n",
    "lambda_ = 2\n",
    "eta = 0.5\n",
    "\n",
    "X = np.array([[1, -2, 0, 1], [-2, -1, 1, 2], [1, 2, -1, 1]])\n",
    "w0 = np.array([[-1], [0], [1], [1]])\n",
    "Y = np.array([[2], [3], [-1]])\n",
    "\n",
    "def f_prime(w):\n",
    "    return 2 * (X.T.dot(X.dot(w)-Y) + 2 * w)\n",
    "\n",
    "w = w0\n",
    "for i in range(2):\n",
    "    w = w - eta * f_prime(w)\n",
    "\n",
    "print(f'W after two steps of gradient descent: {w}')"
   ]
  },
  {
   "cell_type": "markdown",
   "metadata": {},
   "source": [
    "# Question 3"
   ]
  },
  {
   "cell_type": "code",
   "execution_count": 3,
   "metadata": {},
   "outputs": [],
   "source": [
    "import numpy as np\n",
    "from numpy import genfromtxt\n",
    "\n",
    "X = genfromtxt('stock_prediction_data.csv', delimiter=',')\n",
    "\n",
    "y = genfromtxt('stock_price.csv', delimiter=',')\n",
    "y = np.reshape(y, (len(y),1))"
   ]
  },
  {
   "cell_type": "code",
   "execution_count": 4,
   "metadata": {},
   "outputs": [],
   "source": [
    "# Split data\n",
    "from sklearn.model_selection import train_test_split\n",
    "\n",
    "X_train, X_rest, y_train, y_rest = train_test_split(X, y, test_size=0.2)\n",
    "X_test, X_val, y_test, y_val = train_test_split(X_rest, y_rest, test_size=0.5)"
   ]
  }
 ],
 "metadata": {
  "kernelspec": {
   "display_name": "ds",
   "language": "python",
   "name": "python3"
  },
  "language_info": {
   "codemirror_mode": {
    "name": "ipython",
    "version": 3
   },
   "file_extension": ".py",
   "mimetype": "text/x-python",
   "name": "python",
   "nbconvert_exporter": "python",
   "pygments_lexer": "ipython3",
   "version": "3.11.7"
  }
 },
 "nbformat": 4,
 "nbformat_minor": 2
}
