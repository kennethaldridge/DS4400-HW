{
 "cells": [
  {
   "cell_type": "code",
   "execution_count": 1,
   "metadata": {},
   "outputs": [
    {
     "name": "stdout",
     "output_type": "stream",
     "text": [
      "Auto ᐁf : 5.555, Theoretical ᐁf 5.555\n",
      "Auto ᐁf : 0.008, Theoretical ᐁf 0.008\n",
      "Auto ᐁf : -0.518, Theoretical ᐁf -0.518\n",
      "Auto ᐁf : -2.089, Theoretical ᐁf -2.089\n",
      "Auto ᐁf : -3.086, Theoretical ᐁf -3.086\n",
      "Auto ᐁf : -0.187, Theoretical ᐁf -0.187\n",
      "Auto ᐁf : -0.287, Theoretical ᐁf -0.287\n",
      "Auto ᐁf : -6.356, Theoretical ᐁf -6.356\n",
      "Auto ᐁf : -5.088, Theoretical ᐁf -5.088\n",
      "Auto ᐁf : -5.463, Theoretical ᐁf -5.463\n"
     ]
    }
   ],
   "source": [
    "# Question 1\n",
    "# 1)\n",
    "import autograd.numpy as np\n",
    "from autograd.numpy import log as ln\n",
    "from autograd.numpy import exp\n",
    "from autograd import grad\n",
    "\n",
    "def f(x):\n",
    "    return 2*x**2 + 1\n",
    "\n",
    "def ᐁf(x):\n",
    "    return 4*x\n",
    "\n",
    "auto_grad = grad(f)\n",
    "\n",
    "for i in range(10):\n",
    "\tx = np.random.randn()\n",
    "\tprint('Auto ᐁf : %.3f, Theoretical ᐁf %.3f'%(auto_grad(x), ᐁf(x)))"
   ]
  },
  {
   "cell_type": "code",
   "execution_count": 2,
   "metadata": {},
   "outputs": [
    {
     "name": "stdout",
     "output_type": "stream",
     "text": [
      "Auto ᐁf : -2.510, Theoretical ᐁf -2.510\n",
      "Auto ᐁf : 0.619, Theoretical ᐁf 0.619\n",
      "Auto ᐁf : 0.510, Theoretical ᐁf 0.510\n",
      "Auto ᐁf : 62.430, Theoretical ᐁf 62.430\n",
      "Auto ᐁf : -0.368, Theoretical ᐁf -0.368\n",
      "Auto ᐁf : 2.896, Theoretical ᐁf 2.896\n",
      "Auto ᐁf : -2.127, Theoretical ᐁf -2.127\n",
      "Auto ᐁf : 75.815, Theoretical ᐁf 75.815\n",
      "Auto ᐁf : 0.884, Theoretical ᐁf 0.884\n",
      "Auto ᐁf : 9.705, Theoretical ᐁf 9.705\n"
     ]
    }
   ],
   "source": [
    "# 2 \n",
    "def f(x):\n",
    "    return exp(x**2)\n",
    "\n",
    "def ᐁf(x):\n",
    "    return 2*x*exp(x**2)\n",
    "\n",
    "auto_grad = grad(f)\n",
    "\n",
    "for i in range(10):\n",
    "\tx = np.random.randn()\n",
    "\tprint('Auto ᐁf : %.3f, Theoretical ᐁf %.3f'%(auto_grad(x), ᐁf(x)))"
   ]
  },
  {
   "cell_type": "code",
   "execution_count": 3,
   "metadata": {},
   "outputs": [
    {
     "name": "stdout",
     "output_type": "stream",
     "text": [
      "Auto ᐁf : -15.227, Theoretical ᐁf -15.227\n",
      "Auto ᐁf : -20.600, Theoretical ᐁf -20.600\n",
      "Auto ᐁf : -13.506, Theoretical ᐁf -13.506\n",
      "Auto ᐁf : 7.688, Theoretical ᐁf 7.688\n",
      "Auto ᐁf : -18.103, Theoretical ᐁf -18.103\n",
      "Auto ᐁf : -15.098, Theoretical ᐁf -15.098\n",
      "Auto ᐁf : -24.969, Theoretical ᐁf -24.969\n",
      "Auto ᐁf : -13.406, Theoretical ᐁf -13.406\n",
      "Auto ᐁf : -18.836, Theoretical ᐁf -18.836\n",
      "Auto ᐁf : -21.523, Theoretical ᐁf -21.523\n"
     ]
    }
   ],
   "source": [
    "# 3\n",
    "def f(x):\n",
    "    return (3*x-2)**2\n",
    "\n",
    "def ᐁf(x):\n",
    "    return 2*(3*x-2)*3\n",
    "\n",
    "auto_grad = grad(f)\n",
    "\n",
    "for i in range(10):\n",
    "\tx = np.random.randn()\n",
    "\tprint('Auto ᐁf : %.3f, Theoretical ᐁf %.3f'%(auto_grad(x), ᐁf(x)))"
   ]
  },
  {
   "cell_type": "code",
   "execution_count": 4,
   "metadata": {},
   "outputs": [
    {
     "name": "stdout",
     "output_type": "stream",
     "text": [
      "Auto ᐁf : -62.231, Theoretical ᐁf -62.231\n",
      "Auto ᐁf : -131.858, Theoretical ᐁf -131.858\n",
      "Auto ᐁf : -66.803, Theoretical ᐁf -66.803\n",
      "Auto ᐁf : -131.114, Theoretical ᐁf -131.114\n",
      "Auto ᐁf : -166.915, Theoretical ᐁf -166.915\n",
      "Auto ᐁf : -84.024, Theoretical ᐁf -84.024\n",
      "Auto ᐁf : 66.564, Theoretical ᐁf 66.564\n",
      "Auto ᐁf : -111.612, Theoretical ᐁf -111.612\n",
      "Auto ᐁf : -80.798, Theoretical ᐁf -80.798\n",
      "Auto ᐁf : -6.621, Theoretical ᐁf -6.621\n"
     ]
    }
   ],
   "source": [
    "# 4\n",
    "y = [2, 5, 3, 4]\n",
    "n = 4\n",
    "\n",
    "def f(x):\n",
    "    return sum((3*x-y[i])**2 for i in range(n))\n",
    "\n",
    "def ᐁf(x):\n",
    "    return sum(2*(3*x-y[i])*3 for i in range(n))\n",
    "\n",
    "auto_grad = grad(f)\n",
    "\n",
    "for i in range(10):\n",
    "\tx = np.random.randn()\n",
    "\tprint('Auto ᐁf : %.3f, Theoretical ᐁf %.3f'%(auto_grad(x), ᐁf(x)))"
   ]
  },
  {
   "cell_type": "code",
   "execution_count": 7,
   "metadata": {},
   "outputs": [
    {
     "name": "stdout",
     "output_type": "stream",
     "text": [
      "Auto ᐁf : -49.669, Theoretical ᐁf -49.669\n",
      "Auto ᐁf : 0.895, Theoretical ᐁf 0.895\n",
      "Auto ᐁf : -1.089, Theoretical ᐁf -1.089\n",
      "Auto ᐁf : -2.072, Theoretical ᐁf -2.072\n",
      "Auto ᐁf : 2.855, Theoretical ᐁf 2.855\n",
      "Auto ᐁf : -3.586, Theoretical ᐁf -3.586\n",
      "Auto ᐁf : -3.659, Theoretical ᐁf -3.659\n",
      "Auto ᐁf : -2.260, Theoretical ᐁf -2.260\n",
      "Auto ᐁf : 1.234, Theoretical ᐁf 1.234\n",
      "Auto ᐁf : 4.177, Theoretical ᐁf 4.177\n"
     ]
    }
   ],
   "source": [
    "# 5\n",
    "def f(x):\n",
    "    return ln(1/x)/ln(2)\n",
    "\n",
    "def ᐁf(x):\n",
    "    return -(1/(x*ln(2)))\n",
    "\n",
    "auto_grad = grad(f)\n",
    "\n",
    "for i in range(10):\n",
    "\tx = np.random.randn()\n",
    "\tprint('Auto ᐁf : %.3f, Theoretical ᐁf %.3f'%(auto_grad(x), ᐁf(x)))"
   ]
  },
  {
   "cell_type": "code",
   "execution_count": 6,
   "metadata": {},
   "outputs": [
    {
     "name": "stdout",
     "output_type": "stream",
     "text": [
      "Auto ᐁf : -1.212, Theoretical ᐁf -1.212\n",
      "Auto ᐁf : -17.818, Theoretical ᐁf -17.818\n",
      "Auto ᐁf : -3.122, Theoretical ᐁf -3.122\n",
      "Auto ᐁf : -5.057, Theoretical ᐁf -5.057\n",
      "Auto ᐁf : -1.926, Theoretical ᐁf -1.926\n",
      "Auto ᐁf : -1.663, Theoretical ᐁf -1.663\n",
      "Auto ᐁf : -1.877, Theoretical ᐁf -1.877\n",
      "Auto ᐁf : -1.730, Theoretical ᐁf -1.730\n",
      "Auto ᐁf : -0.774, Theoretical ᐁf -0.774\n",
      "Auto ᐁf : -0.971, Theoretical ᐁf -0.971\n"
     ]
    }
   ],
   "source": [
    "# 6\n",
    "def f(x):\n",
    "    return ln((x-2)**2)/ln(2)\n",
    "\n",
    "def ᐁf(x):\n",
    "    return 2/((x-2)*ln(2))\n",
    "\n",
    "auto_grad = grad(f)\n",
    "\n",
    "for i in range(10):\n",
    "\tx = np.random.randn()\n",
    "\tprint('Auto ᐁf : %.3f, Theoretical ᐁf %.3f'%(auto_grad(x), ᐁf(x)))"
   ]
  },
  {
   "cell_type": "code",
   "execution_count": 8,
   "metadata": {},
   "outputs": [
    {
     "name": "stdout",
     "output_type": "stream",
     "text": [
      "Area = 1.6667\n"
     ]
    }
   ],
   "source": [
    "# Question 2\n",
    "# 1\n",
    "from scipy.integrate import quad\n",
    "\n",
    "def f(x):\n",
    "    return 2*x**2 + 1\n",
    "\n",
    "A, err = quad(f, 0, 1)\n",
    "print('Area = %.4f'%A)"
   ]
  },
  {
   "cell_type": "code",
   "execution_count": 9,
   "metadata": {},
   "outputs": [
    {
     "name": "stdout",
     "output_type": "stream",
     "text": [
      "Area = 1.7183\n"
     ]
    }
   ],
   "source": [
    "# 2\n",
    "def f(x):\n",
    "    return exp(x)\n",
    "\n",
    "A, err = quad(f, 0, 1)\n",
    "print('Area = %.4f'%A)"
   ]
  },
  {
   "cell_type": "code",
   "execution_count": 10,
   "metadata": {},
   "outputs": [
    {
     "name": "stdout",
     "output_type": "stream",
     "text": [
      "Area = 1.0000\n"
     ]
    }
   ],
   "source": [
    "# 3\n",
    "def f(x):\n",
    "    return (3*x-2)**2\n",
    "\n",
    "A, err = quad(f, 0, 1)\n",
    "print('Area = %.4f'%A)"
   ]
  },
  {
   "cell_type": "code",
   "execution_count": 11,
   "metadata": {},
   "outputs": [
    {
     "name": "stdout",
     "output_type": "stream",
     "text": [
      "Area = 2.6321\n"
     ]
    }
   ],
   "source": [
    "# 4\n",
    "def f(x):\n",
    "    return exp(-x) + 2*x + 1\n",
    "\n",
    "A, err = quad(f, 0, 1)\n",
    "print('Area = %.4f'%A)"
   ]
  }
 ],
 "metadata": {
  "kernelspec": {
   "display_name": "ds",
   "language": "python",
   "name": "python3"
  },
  "language_info": {
   "codemirror_mode": {
    "name": "ipython",
    "version": 3
   },
   "file_extension": ".py",
   "mimetype": "text/x-python",
   "name": "python",
   "nbconvert_exporter": "python",
   "pygments_lexer": "ipython3",
   "version": "3.11.7"
  }
 },
 "nbformat": 4,
 "nbformat_minor": 2
}
