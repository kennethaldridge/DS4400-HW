{
 "cells": [
  {
   "cell_type": "code",
   "execution_count": 4,
   "metadata": {},
   "outputs": [
    {
     "name": "stdout",
     "output_type": "stream",
     "text": [
      "Auto ᐁf : -6.873, Theoretical ᐁf -6.873\n",
      "Auto ᐁf : 0.901, Theoretical ᐁf 0.901\n",
      "Auto ᐁf : 1.515, Theoretical ᐁf 1.515\n",
      "Auto ᐁf : 6.016, Theoretical ᐁf 6.016\n",
      "Auto ᐁf : -0.744, Theoretical ᐁf -0.744\n",
      "Auto ᐁf : 4.272, Theoretical ᐁf 4.272\n",
      "Auto ᐁf : -1.311, Theoretical ᐁf -1.311\n",
      "Auto ᐁf : -3.199, Theoretical ᐁf -3.199\n",
      "Auto ᐁf : -1.299, Theoretical ᐁf -1.299\n",
      "Auto ᐁf : 1.623, Theoretical ᐁf 1.623\n"
     ]
    }
   ],
   "source": [
    "# Question 1\n",
    "# 1)\n",
    "import autograd.numpy as np\n",
    "from autograd.numpy import log as ln\n",
    "from autograd.numpy import exp\n",
    "from autograd import grad\n",
    "\n",
    "def f(x):\n",
    "    return 2*x**2 + 1\n",
    "\n",
    "def ᐁf(x):\n",
    "    return 4*x\n",
    "\n",
    "auto_grad = grad(f)\n",
    "\n",
    "for i in range(10):\n",
    "\tx = np.random.randn()\n",
    "\tprint('Auto ᐁf : %.3f, Theoretical ᐁf %.3f'%(auto_grad(x), ᐁf(x)))"
   ]
  },
  {
   "cell_type": "code",
   "execution_count": 2,
   "metadata": {},
   "outputs": [
    {
     "name": "stdout",
     "output_type": "stream",
     "text": [
      "Auto ᐁf : -1.883, Theoretical ᐁf -1.883\n",
      "Auto ᐁf : 1.035, Theoretical ᐁf 1.035\n",
      "Auto ᐁf : 7.457, Theoretical ᐁf 7.457\n",
      "Auto ᐁf : -0.487, Theoretical ᐁf -0.487\n",
      "Auto ᐁf : 1.191, Theoretical ᐁf 1.191\n",
      "Auto ᐁf : 2.189, Theoretical ᐁf 2.189\n",
      "Auto ᐁf : 9468.774, Theoretical ᐁf 9468.774\n",
      "Auto ᐁf : -1.297, Theoretical ᐁf -1.297\n",
      "Auto ᐁf : 16.114, Theoretical ᐁf 16.114\n",
      "Auto ᐁf : -1.321, Theoretical ᐁf -1.321\n"
     ]
    }
   ],
   "source": [
    "# 2 \n",
    "def f(x):\n",
    "    return exp(x**2)\n",
    "\n",
    "def ᐁf(x):\n",
    "    return 2*x*exp(x**2)\n",
    "\n",
    "auto_grad = grad(f)\n",
    "\n",
    "for i in range(10):\n",
    "\tx = np.random.randn()\n",
    "\tprint('Auto ᐁf : %.3f, Theoretical ᐁf %.3f'%(auto_grad(x), ᐁf(x)))"
   ]
  },
  {
   "cell_type": "code",
   "execution_count": 3,
   "metadata": {},
   "outputs": [
    {
     "name": "stdout",
     "output_type": "stream",
     "text": [
      "Auto ᐁf : -36.757, Theoretical ᐁf -36.757\n",
      "Auto ᐁf : -5.876, Theoretical ᐁf -5.876\n",
      "Auto ᐁf : -5.396, Theoretical ᐁf -5.396\n",
      "Auto ᐁf : -23.094, Theoretical ᐁf -23.094\n",
      "Auto ᐁf : -24.538, Theoretical ᐁf -24.538\n",
      "Auto ᐁf : -9.591, Theoretical ᐁf -9.591\n",
      "Auto ᐁf : -19.293, Theoretical ᐁf -19.293\n",
      "Auto ᐁf : -3.003, Theoretical ᐁf -3.003\n",
      "Auto ᐁf : -23.960, Theoretical ᐁf -23.960\n",
      "Auto ᐁf : -4.580, Theoretical ᐁf -4.580\n"
     ]
    }
   ],
   "source": [
    "# 3\n",
    "def f(x):\n",
    "    return (3*x-2)**2\n",
    "\n",
    "def ᐁf(x):\n",
    "    return 2*(3*x-2)*3\n",
    "\n",
    "auto_grad = grad(f)\n",
    "\n",
    "for i in range(10):\n",
    "\tx = np.random.randn()\n",
    "\tprint('Auto ᐁf : %.3f, Theoretical ᐁf %.3f'%(auto_grad(x), ᐁf(x)))"
   ]
  },
  {
   "cell_type": "code",
   "execution_count": null,
   "metadata": {},
   "outputs": [
    {
     "ename": "NameError",
     "evalue": "name 'i' is not defined",
     "output_type": "error",
     "traceback": [
      "\u001b[1;31m---------------------------------------------------------------------------\u001b[0m",
      "\u001b[1;31mNameError\u001b[0m                                 Traceback (most recent call last)",
      "Cell \u001b[1;32mIn[2], line 4\u001b[0m\n\u001b[0;32m      1\u001b[0m y_values \u001b[38;5;241m=\u001b[39m [\u001b[38;5;241m2\u001b[39m, \u001b[38;5;241m5\u001b[39m, \u001b[38;5;241m3\u001b[39m, \u001b[38;5;241m4\u001b[39m]\n\u001b[0;32m      2\u001b[0m n \u001b[38;5;241m=\u001b[39m \u001b[38;5;241m4\u001b[39m\n\u001b[1;32m----> 4\u001b[0m \u001b[38;5;28msum\u001b[39m(y_values[i])\n",
      "\u001b[1;31mNameError\u001b[0m: name 'i' is not defined"
     ]
    }
   ],
   "source": [
    "y_values = [2, 5, 3, 4]\n",
    "n = 4\n"
   ]
  },
  {
   "cell_type": "code",
   "execution_count": 6,
   "metadata": {},
   "outputs": [
    {
     "name": "stdout",
     "output_type": "stream",
     "text": [
      "Auto ᐁf : -123.159, Theoretical ᐁf -123.159\n",
      "Auto ᐁf : -141.549, Theoretical ᐁf -141.549\n",
      "Auto ᐁf : -233.929, Theoretical ᐁf -233.929\n",
      "Auto ᐁf : 12.724, Theoretical ᐁf 12.724\n",
      "Auto ᐁf : -135.695, Theoretical ᐁf -135.695\n",
      "Auto ᐁf : -95.909, Theoretical ᐁf -95.909\n",
      "Auto ᐁf : -188.123, Theoretical ᐁf -188.123\n",
      "Auto ᐁf : -129.205, Theoretical ᐁf -129.205\n",
      "Auto ᐁf : -168.819, Theoretical ᐁf -168.819\n",
      "Auto ᐁf : -26.643, Theoretical ᐁf -26.643\n"
     ]
    }
   ],
   "source": [
    "# 4\n",
    "# use i=1, n=3; y1=2, y2=5, y3=3\n",
    "\n",
    "y = [2, 5, 3, 4]\n",
    "n = 4\n",
    "\n",
    "def f(x):\n",
    "    return sum((3*x-y[i])**2 for i in range(n))\n",
    "\n",
    "def ᐁf(x):\n",
    "    return sum(2*(3*x-y[i])*3 for i in range(n))\n",
    "\n",
    "auto_grad = grad(f)\n",
    "\n",
    "for i in range(10):\n",
    "\tx = np.random.randn()\n",
    "\tprint('Auto ᐁf : %.3f, Theoretical ᐁf %.3f'%(auto_grad(x), ᐁf(x)))"
   ]
  },
  {
   "cell_type": "code",
   "execution_count": 4,
   "metadata": {},
   "outputs": [
    {
     "name": "stdout",
     "output_type": "stream",
     "text": [
      "Auto ᐁf : -4.214, Theoretical ᐁf -4.214\n",
      "Auto ᐁf : 0.923, Theoretical ᐁf 0.923\n",
      "Auto ᐁf : -11.013, Theoretical ᐁf -11.013\n",
      "Auto ᐁf : 0.953, Theoretical ᐁf 0.953\n",
      "Auto ᐁf : 0.841, Theoretical ᐁf 0.841\n",
      "Auto ᐁf : 2.038, Theoretical ᐁf 2.038\n",
      "Auto ᐁf : 2.899, Theoretical ᐁf 2.899\n",
      "Auto ᐁf : 2.885, Theoretical ᐁf 2.885\n",
      "Auto ᐁf : 1.321, Theoretical ᐁf 1.321\n",
      "Auto ᐁf : 2.848, Theoretical ᐁf 2.848\n"
     ]
    },
    {
     "name": "stderr",
     "output_type": "stream",
     "text": [
      "c:\\Users\\kenne\\anaconda3\\envs\\ds\\Lib\\site-packages\\autograd\\tracer.py:48: RuntimeWarning: invalid value encountered in log\n",
      "  return f_raw(*args, **kwargs)\n"
     ]
    }
   ],
   "source": [
    "# 5\n",
    "def f(x):\n",
    "    return ln(1/x)/ln(2)\n",
    "\n",
    "def ᐁf(x):\n",
    "    return -(1/(x*ln(2)))\n",
    "\n",
    "auto_grad = grad(f)\n",
    "\n",
    "for i in range(10):\n",
    "\tx = np.random.randn()\n",
    "\tprint('Auto ᐁf : %.3f, Theoretical ᐁf %.3f'%(auto_grad(x), ᐁf(x)))"
   ]
  },
  {
   "cell_type": "code",
   "execution_count": 5,
   "metadata": {},
   "outputs": [
    {
     "name": "stdout",
     "output_type": "stream",
     "text": [
      "Auto ᐁf : -9.499, Theoretical ᐁf -9.499\n",
      "Auto ᐁf : -0.877, Theoretical ᐁf -0.877\n",
      "Auto ᐁf : -1.116, Theoretical ᐁf -1.116\n",
      "Auto ᐁf : -0.974, Theoretical ᐁf -0.974\n",
      "Auto ᐁf : -13.038, Theoretical ᐁf -13.038\n",
      "Auto ᐁf : -3.716, Theoretical ᐁf -3.716\n",
      "Auto ᐁf : -4.529, Theoretical ᐁf -4.529\n",
      "Auto ᐁf : -3.060, Theoretical ᐁf -3.060\n",
      "Auto ᐁf : -1.192, Theoretical ᐁf -1.192\n",
      "Auto ᐁf : -1.376, Theoretical ᐁf -1.376\n"
     ]
    }
   ],
   "source": [
    "# 6\n",
    "def f(x):\n",
    "    return ln((x-2)**2)/ln(2)\n",
    "\n",
    "def ᐁf(x):\n",
    "    return 2/((x-2)*ln(2))\n",
    "\n",
    "auto_grad = grad(f)\n",
    "\n",
    "for i in range(10):\n",
    "\tx = np.random.randn()\n",
    "\tprint('Auto ᐁf : %.3f, Theoretical ᐁf %.3f'%(auto_grad(x), ᐁf(x)))"
   ]
  },
  {
   "cell_type": "code",
   "execution_count": 6,
   "metadata": {},
   "outputs": [
    {
     "name": "stdout",
     "output_type": "stream",
     "text": [
      "Area = 1.6667\n"
     ]
    }
   ],
   "source": [
    "# Question 2\n",
    "# 1\n",
    "from scipy.integrate import quad\n",
    "\n",
    "def f(x):\n",
    "    return 2*x**2 + 1\n",
    "\n",
    "A, err = quad(f, 0, 1)\n",
    "print('Area = %.4f'%A)"
   ]
  },
  {
   "cell_type": "code",
   "execution_count": 7,
   "metadata": {},
   "outputs": [
    {
     "name": "stdout",
     "output_type": "stream",
     "text": [
      "Area = 1.7183\n"
     ]
    }
   ],
   "source": [
    "# 2\n",
    "def f(x):\n",
    "    return exp(x)\n",
    "\n",
    "A, err = quad(f, 0, 1)\n",
    "print('Area = %.4f'%A)"
   ]
  },
  {
   "cell_type": "code",
   "execution_count": 8,
   "metadata": {},
   "outputs": [
    {
     "name": "stdout",
     "output_type": "stream",
     "text": [
      "Area = 1.0000\n"
     ]
    }
   ],
   "source": [
    "# 3\n",
    "def f(x):\n",
    "    return (3*x-2)**2\n",
    "\n",
    "A, err = quad(f, 0, 1)\n",
    "print('Area = %.4f'%A)"
   ]
  },
  {
   "cell_type": "code",
   "execution_count": 9,
   "metadata": {},
   "outputs": [
    {
     "name": "stdout",
     "output_type": "stream",
     "text": [
      "Area = 2.6321\n"
     ]
    }
   ],
   "source": [
    "# 4\n",
    "def f(x):\n",
    "    return exp(-x) + 2*x + 1\n",
    "\n",
    "A, err = quad(f, 0, 1)\n",
    "print('Area = %.4f'%A)"
   ]
  }
 ],
 "metadata": {
  "kernelspec": {
   "display_name": "ds",
   "language": "python",
   "name": "python3"
  },
  "language_info": {
   "codemirror_mode": {
    "name": "ipython",
    "version": 3
   },
   "file_extension": ".py",
   "mimetype": "text/x-python",
   "name": "python",
   "nbconvert_exporter": "python",
   "pygments_lexer": "ipython3",
   "version": "3.11.7"
  }
 },
 "nbformat": 4,
 "nbformat_minor": 2
}
