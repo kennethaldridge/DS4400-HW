{
 "cells": [
  {
   "cell_type": "code",
   "execution_count": 2,
   "metadata": {},
   "outputs": [],
   "source": [
    "# Question 4\n",
    "import numpy as np\n",
    "\n",
    "X = np.array([[1, 7], [-8, 6], [3, 1]])\n",
    "Y = np.array([[0, 4, 6, -8], [1, -3, 5, 7], [11, 13, 9, 9], [-1, 0, 8, 7]])\n",
    "Z = np.array([[0, 4, 8, 1], [-3, 5, 17, 11]])\n",
    "A = np.array([[1, 17], [2, 14]])\n",
    "\n",
    "b = np.array([[19, -11, 13]])\n",
    "c = np.array([[12], [-11], [10]])\n",
    "x = np.array([[1], [2], [3]])\n",
    "y = np.array([[3, 3, 1]])"
   ]
  },
  {
   "cell_type": "code",
   "execution_count": 5,
   "metadata": {},
   "outputs": [
    {
     "data": {
      "text/plain": [
       "array([[ 19,  38,  57],\n",
       "       [ 38,  76, 114],\n",
       "       [ 57, 114, 171]])"
      ]
     },
     "execution_count": 5,
     "metadata": {},
     "output_type": "execute_result"
    }
   ],
   "source": [
    "# 1\n",
    "ans = x.dot(y.dot(y.T.dot(x.T)))\n",
    "ans"
   ]
  },
  {
   "cell_type": "code",
   "execution_count": 6,
   "metadata": {},
   "outputs": [
    {
     "data": {
      "text/plain": [
       "array([[ 27],\n",
       "       [-42],\n",
       "       [ 21]])"
      ]
     },
     "execution_count": 6,
     "metadata": {},
     "output_type": "execute_result"
    }
   ],
   "source": [
    "# 2\n",
    "ans = 3*c - 9\n",
    "ans"
   ]
  },
  {
   "cell_type": "code",
   "execution_count": 7,
   "metadata": {},
   "outputs": [
    {
     "data": {
      "text/plain": [
       "array([[ 490, 8330],\n",
       "       [ 980, 6860]])"
      ]
     },
     "execution_count": 7,
     "metadata": {},
     "output_type": "execute_result"
    }
   ],
   "source": [
    "# 3\n",
    "ans = np.trace(np.inner(A, A)) * A\n",
    "ans"
   ]
  },
  {
   "cell_type": "code",
   "execution_count": 8,
   "metadata": {},
   "outputs": [
    {
     "data": {
      "text/plain": [
       "array([[-42,  78, 254, 156],\n",
       "       [-36,  -4,  76, 116],\n",
       "       [ -6,  34,  82,  28]])"
      ]
     },
     "execution_count": 8,
     "metadata": {},
     "output_type": "execute_result"
    }
   ],
   "source": [
    "# 4\n",
    "ans = 2*X.dot(Z)\n",
    "ans"
   ]
  },
  {
   "cell_type": "code",
   "execution_count": 12,
   "metadata": {},
   "outputs": [
    {
     "data": {
      "text/plain": [
       "array([[ 479, 8143],\n",
       "       [ 958, 6706]])"
      ]
     },
     "execution_count": 12,
     "metadata": {},
     "output_type": "execute_result"
    }
   ],
   "source": [
    "# 5\n",
    "ans = (b.dot(c)) * A\n",
    "ans"
   ]
  },
  {
   "cell_type": "code",
   "execution_count": 13,
   "metadata": {},
   "outputs": [
    {
     "data": {
      "text/plain": [
       "array([[ 306, 3602]])"
      ]
     },
     "execution_count": 13,
     "metadata": {},
     "output_type": "execute_result"
    }
   ],
   "source": [
    "# 6\n",
    "ans = b.dot(X.dot(A))\n",
    "ans"
   ]
  },
  {
   "cell_type": "code",
   "execution_count": 14,
   "metadata": {},
   "outputs": [
    {
     "data": {
      "text/plain": [
       "array([[ 12],\n",
       "       [-22],\n",
       "       [ 30]])"
      ]
     },
     "execution_count": 14,
     "metadata": {},
     "output_type": "execute_result"
    }
   ],
   "source": [
    "# 7\n",
    "ans = c * x \n",
    "ans"
   ]
  },
  {
   "cell_type": "code",
   "execution_count": 15,
   "metadata": {},
   "outputs": [
    {
     "data": {
      "text/plain": [
       "array([[ 57, -33,  13]])"
      ]
     },
     "execution_count": 15,
     "metadata": {},
     "output_type": "execute_result"
    }
   ],
   "source": [
    "# 8\n",
    "ans = b * y \n",
    "ans"
   ]
  },
  {
   "cell_type": "code",
   "execution_count": 16,
   "metadata": {},
   "outputs": [
    {
     "data": {
      "text/plain": [
       "array([[ 12,  24,  36],\n",
       "       [-11, -22, -33],\n",
       "       [ 10,  20,  30]])"
      ]
     },
     "execution_count": 16,
     "metadata": {},
     "output_type": "execute_result"
    }
   ],
   "source": [
    "# 9\n",
    "ans = c.dot(x.T)\n",
    "ans"
   ]
  },
  {
   "cell_type": "code",
   "execution_count": 18,
   "metadata": {},
   "outputs": [
    {
     "data": {
      "text/plain": [
       "array([[ 56,  34],\n",
       "       [ 35, 144],\n",
       "       [133, 284],\n",
       "       [ 71, 216]])"
      ]
     },
     "execution_count": 18,
     "metadata": {},
     "output_type": "execute_result"
    }
   ],
   "source": [
    "# 10\n",
    "ans = Y.dot(Z.T)\n",
    "ans"
   ]
  },
  {
   "cell_type": "code",
   "execution_count": 19,
   "metadata": {},
   "outputs": [],
   "source": [
    "# Question 5\n",
    "X = np.array([[2, 3], [9 ,1]])\n",
    "Y = np.array([[1, 0], [2, 1]])\n",
    "x = np.array([[1], [3]])\n",
    "y = np.array([[2], [4]])"
   ]
  },
  {
   "cell_type": "code",
   "execution_count": 21,
   "metadata": {},
   "outputs": [
    {
     "name": "stdout",
     "output_type": "stream",
     "text": [
      "[2 9]\n"
     ]
    }
   ],
   "source": [
    "# 1st col of X\n",
    "ans = X[:,0]\n",
    "print(ans)"
   ]
  },
  {
   "cell_type": "code",
   "execution_count": 23,
   "metadata": {},
   "outputs": [
    {
     "name": "stdout",
     "output_type": "stream",
     "text": [
      "[2 1]\n"
     ]
    }
   ],
   "source": [
    "# 2nd row of Y\n",
    "ans = Y[1,:]\n",
    "print(ans)"
   ]
  },
  {
   "cell_type": "code",
   "execution_count": 32,
   "metadata": {},
   "outputs": [
    {
     "name": "stdout",
     "output_type": "stream",
     "text": [
      "1\n"
     ]
    }
   ],
   "source": [
    "# Bottom right of X\n",
    "x_dim = X.shape[0]\n",
    "y_dim = X.shape[1]\n",
    "\n",
    "ans = X[x_dim-1, y_dim-1]\n",
    "print(ans)"
   ]
  },
  {
   "cell_type": "code",
   "execution_count": 33,
   "metadata": {},
   "outputs": [
    {
     "name": "stdout",
     "output_type": "stream",
     "text": [
      "[[ 3  3]\n",
      " [11  2]]\n"
     ]
    }
   ],
   "source": [
    "# X + Y\n",
    "ans = X + Y\n",
    "print(ans)"
   ]
  },
  {
   "cell_type": "code",
   "execution_count": 34,
   "metadata": {},
   "outputs": [
    {
     "name": "stdout",
     "output_type": "stream",
     "text": [
      "[[ 4  6]\n",
      " [22  8]]\n"
     ]
    }
   ],
   "source": [
    "# X + YX\n",
    "ans = X + Y.dot(X)\n",
    "print(ans)"
   ]
  },
  {
   "cell_type": "code",
   "execution_count": 35,
   "metadata": {},
   "outputs": [
    {
     "name": "stdout",
     "output_type": "stream",
     "text": [
      "[[ 2]\n",
      " [12]]\n"
     ]
    }
   ],
   "source": [
    "# Hadamard product of x and y\n",
    "ans = x * y\n",
    "print(ans)"
   ]
  },
  {
   "cell_type": "code",
   "execution_count": 37,
   "metadata": {},
   "outputs": [
    {
     "name": "stdout",
     "output_type": "stream",
     "text": [
      "[[ 2  4]\n",
      " [ 6 12]]\n"
     ]
    }
   ],
   "source": [
    "# outer product of x and y\n",
    "ans = np.outer(x, y)\n",
    "print(ans)"
   ]
  },
  {
   "cell_type": "code",
   "execution_count": 38,
   "metadata": {},
   "outputs": [
    {
     "name": "stdout",
     "output_type": "stream",
     "text": [
      "[[ 8  3]\n",
      " [11  1]]\n"
     ]
    }
   ],
   "source": [
    "# Dot of XY\n",
    "ans = X.dot(Y)\n",
    "print(ans)"
   ]
  },
  {
   "cell_type": "code",
   "execution_count": 39,
   "metadata": {},
   "outputs": [
    {
     "name": "stdout",
     "output_type": "stream",
     "text": [
      "21\n"
     ]
    }
   ],
   "source": [
    "# Inner of XY\n",
    "ans = np.trace(np.inner(X, Y))\n",
    "print(ans)"
   ]
  },
  {
   "cell_type": "code",
   "execution_count": 3,
   "metadata": {},
   "outputs": [
    {
     "name": "stdout",
     "output_type": "stream",
     "text": [
      "5.0\n",
      "5.0\n",
      "5.0\n"
     ]
    }
   ],
   "source": [
    "# Question 6\n",
    "# v\n",
    "v = np.array([[5], [0], [0]])\n",
    "print(np.linalg.norm(v, ord=1))\n",
    "print(np.linalg.norm(v, ord=2))\n",
    "print(np.linalg.norm(v, ord=np.inf))"
   ]
  },
  {
   "cell_type": "code",
   "execution_count": 4,
   "metadata": {},
   "outputs": [
    {
     "name": "stdout",
     "output_type": "stream",
     "text": [
      "10.0\n",
      "8.12403840463596\n",
      "8.0\n"
     ]
    }
   ],
   "source": [
    "# w\n",
    "w = np.array([[8], [1], [1]])\n",
    "print(np.linalg.norm(w, ord=1))\n",
    "print(np.linalg.norm(w, ord=2))\n",
    "print(np.linalg.norm(w, ord=np.inf))"
   ]
  },
  {
   "cell_type": "code",
   "execution_count": 5,
   "metadata": {},
   "outputs": [
    {
     "name": "stdout",
     "output_type": "stream",
     "text": [
      "6.0\n",
      "3.741657386773941\n",
      "3.0\n"
     ]
    }
   ],
   "source": [
    "# x\n",
    "x = np.array([[3], [1], [2]])\n",
    "print(np.linalg.norm(x, ord=1))\n",
    "print(np.linalg.norm(x, ord=2))\n",
    "print(np.linalg.norm(x, ord=np.inf))"
   ]
  },
  {
   "cell_type": "code",
   "execution_count": 6,
   "metadata": {},
   "outputs": [
    {
     "name": "stdout",
     "output_type": "stream",
     "text": [
      "6.0\n",
      "3.7416573867739413\n",
      "3.0\n"
     ]
    }
   ],
   "source": [
    "# y\n",
    "y = np.array([[2], [1], [0], [3]])\n",
    "print(np.linalg.norm(y, ord=1))\n",
    "print(np.linalg.norm(y, ord=2))\n",
    "print(np.linalg.norm(y, ord=np.inf))"
   ]
  },
  {
   "cell_type": "code",
   "execution_count": 7,
   "metadata": {},
   "outputs": [
    {
     "name": "stdout",
     "output_type": "stream",
     "text": [
      "7.0\n",
      "5.385164807134504\n",
      "5.0\n"
     ]
    }
   ],
   "source": [
    "# z\n",
    "z = np.array([[2], [5]])\n",
    "print(np.linalg.norm(z, ord=1))\n",
    "print(np.linalg.norm(z, ord=2))\n",
    "print(np.linalg.norm(z, ord=np.inf))"
   ]
  },
  {
   "cell_type": "code",
   "execution_count": 8,
   "metadata": {},
   "outputs": [
    {
     "name": "stdout",
     "output_type": "stream",
     "text": [
      "[[1. 2. 1.]\n",
      " [2. 0. 0.]\n",
      " [2. 1. 1.]\n",
      " [1. 2. 5.]]\n"
     ]
    }
   ],
   "source": [
    "# Question 7\n",
    "from numpy import genfromtxt\n",
    "\n",
    "matrix = genfromtxt('hw1.csv', delimiter=',')\n",
    "print(matrix)"
   ]
  }
 ],
 "metadata": {
  "kernelspec": {
   "display_name": "ds",
   "language": "python",
   "name": "python3"
  },
  "language_info": {
   "codemirror_mode": {
    "name": "ipython",
    "version": 3
   },
   "file_extension": ".py",
   "mimetype": "text/x-python",
   "name": "python",
   "nbconvert_exporter": "python",
   "pygments_lexer": "ipython3",
   "version": "3.11.7"
  }
 },
 "nbformat": 4,
 "nbformat_minor": 2
}
