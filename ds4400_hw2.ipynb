{
 "cells": [
  {
   "cell_type": "code",
   "execution_count": 9,
   "metadata": {},
   "outputs": [],
   "source": [
    "import numpy as np\n",
    "from numpy import genfromtxt\n",
    "\n",
    "# Question 1\n",
    "A = genfromtxt('hw_csv_file/hw_2_A.csv', delimiter=',')\n",
    "B = genfromtxt('hw_csv_file/hw_2_B.csv', delimiter=',')\n",
    "C = genfromtxt('hw_csv_file/hw_2_C.csv', delimiter=',')\n",
    "D = genfromtxt('hw_csv_file/hw_2_D.csv', delimiter=',')\n",
    "E = genfromtxt('hw_csv_file/hw_2_E.csv', delimiter=',')\n",
    "\n",
    "x = genfromtxt('hw_csv_file/hw_2_x.csv', delimiter=',')\n",
    "x = np.reshape(x, (len(x), 1))\n",
    "\n",
    "y = genfromtxt('hw_csv_file/hw_2_y.csv', delimiter=',')\n",
    "y = np.reshape(y, (len(y), 1))\n",
    "\n",
    "z = genfromtxt('hw_csv_file/hw_2_z.csv', delimiter=',')\n",
    "z = np.reshape(z, (len(z), 1))\n"
   ]
  },
  {
   "cell_type": "code",
   "execution_count": 10,
   "metadata": {},
   "outputs": [
    {
     "name": "stdout",
     "output_type": "stream",
     "text": [
      "1): 292.05\n"
     ]
    }
   ],
   "source": [
    "# 1\n",
    "ans = np.max(np.trace(np.inner(A, A)))\n",
    "print(f'1): {ans}')"
   ]
  },
  {
   "cell_type": "code",
   "execution_count": 11,
   "metadata": {},
   "outputs": [
    {
     "name": "stdout",
     "output_type": "stream",
     "text": [
      "2): 10.449999999999996\n"
     ]
    }
   ],
   "source": [
    "# 2\n",
    "ans = np.min(np.trace(np.inner(A, B)))\n",
    "print(f'2): {ans}')"
   ]
  },
  {
   "cell_type": "code",
   "execution_count": 12,
   "metadata": {},
   "outputs": [
    {
     "name": "stdout",
     "output_type": "stream",
     "text": [
      "2): -3.49\n"
     ]
    }
   ],
   "source": [
    "# 3\n",
    "ans = np.sum(np.trace(np.inner(C, D)))\n",
    "print(f'3): {ans}')"
   ]
  },
  {
   "cell_type": "code",
   "execution_count": 13,
   "metadata": {},
   "outputs": [
    {
     "name": "stdout",
     "output_type": "stream",
     "text": [
      "4): -0.47000000000000014\n"
     ]
    }
   ],
   "source": [
    "# 4\n",
    "ans = np.average((C+D).dot(x))\n",
    "print(f'4): {ans}')"
   ]
  },
  {
   "cell_type": "code",
   "execution_count": 15,
   "metadata": {},
   "outputs": [
    {
     "name": "stdout",
     "output_type": "stream",
     "text": [
      "5): 0.349\n"
     ]
    }
   ],
   "source": [
    "# 5\n",
    "ans = np.max(np.trace(np.inner(C.T, D.T))* x)\n",
    "print(f'5): {ans}')"
   ]
  },
  {
   "cell_type": "code",
   "execution_count": 16,
   "metadata": {},
   "outputs": [
    {
     "name": "stdout",
     "output_type": "stream",
     "text": [
      "6): -3.7199999999999998\n"
     ]
    }
   ],
   "source": [
    "# 6\n",
    "ans = np.min(x.dot(z.T))\n",
    "print(f'6): {ans}')"
   ]
  },
  {
   "cell_type": "code",
   "execution_count": 23,
   "metadata": {},
   "outputs": [
    {
     "name": "stdout",
     "output_type": "stream",
     "text": [
      "7): [[-3.72  0.12  0.24]\n",
      " [-1.86  0.06  0.12]\n",
      " [ 0.   -0.   -0.  ]\n",
      " [ 0.31 -0.01 -0.02]\n",
      " [-3.72  0.12  0.24]]\n"
     ]
    }
   ],
   "source": [
    "# 7\n",
    "ans = x.dot(z.T)\n",
    "print(f'7): {ans}')"
   ]
  },
  {
   "cell_type": "code",
   "execution_count": 24,
   "metadata": {},
   "outputs": [
    {
     "name": "stdout",
     "output_type": "stream",
     "text": [
      "8): -2987.2000000000003\n"
     ]
    }
   ],
   "source": [
    "# 8\n",
    "ans = np.sum(A+B-10)\n",
    "print(f'8): {ans}')"
   ]
  },
  {
   "cell_type": "code",
   "execution_count": 25,
   "metadata": {},
   "outputs": [
    {
     "name": "stdout",
     "output_type": "stream",
     "text": [
      "9): -2.774444444444445\n"
     ]
    }
   ],
   "source": [
    "# 9\n",
    "ans = np.average(A.T.dot(B))\n",
    "print(f'9): {ans}')"
   ]
  },
  {
   "cell_type": "code",
   "execution_count": 26,
   "metadata": {},
   "outputs": [
    {
     "name": "stdout",
     "output_type": "stream",
     "text": [
      "10): [[ 8.8684]\n",
      " [-4.502 ]\n",
      " [-3.0041]\n",
      " [-5.5886]]\n"
     ]
    }
   ],
   "source": [
    "# 10\n",
    "ans = E.T.dot(C.T.dot(D.dot(x)))\n",
    "print(f'10): {ans}')"
   ]
  },
  {
   "cell_type": "code",
   "execution_count": null,
   "metadata": {},
   "outputs": [
    {
     "data": {
      "image/png": "[encoded data removed]",
      "text/plain": [
       "<Figure size 640x480 with 1 Axes>"
      ]
     },
     "metadata": {},
     "output_type": "display_data"
    }
   ],
   "source": [
    "# Question 2\n",
    "import numpy as np\n",
    "import matplotlib.pyplot as plt\n",
    "\n",
    "x_points = [1, 2, 2, 3]\n",
    "y_points = [1, 1, 2, 2]\n",
    "\n",
    "plt.scatter(x_points, y_points, color='blue', marker='x')\n",
    "plt.xlim([0, 4])\n",
    "plt.ylim([0, 3])\n",
    "\n",
    "plt.xlabel('x-axis')\n",
    "plt.ylabel('y-axis')\n",
    "plt.show()"
   ]
  },
  {
   "cell_type": "code",
   "execution_count": 6,
   "metadata": {},
   "outputs": [],
   "source": [
    "# function and derivative\n",
    "n = len(x_points)\n",
    "\n",
    "def phi(x):\n",
    "    return np.array([[x, 1]]).T\n",
    "\n",
    "def f(w, n):\n",
    "    return 1/n * sum((w.T.dot(phi(x_points[i]))-y_points[i])**2 for i in range(n))\n",
    "\n",
    "def f_prime(w, n):\n",
    "    sigma = sum((w.T.dot(phi(x_points[i]))-y_points[i])*(phi(x_points[i])) for i in range(n))\n",
    "    return (2/n) * sigma"
   ]
  },
  {
   "cell_type": "code",
   "execution_count": 16,
   "metadata": {},
   "outputs": [
    {
     "name": "stdout",
     "output_type": "stream",
     "text": [
      "Best w = \n",
      " [[0.28702254]\n",
      " [0.96935296]]\n"
     ]
    }
   ],
   "source": [
    "# Gradient descent\n",
    "eta = 0.002\n",
    "\n",
    "f_value_list = []\n",
    "w = np.array([[2], [2]])\n",
    "\n",
    "for i in range(1000):\n",
    "    w = w - eta * f_prime(w, n)\n",
    "    f_value_list.append(f(w, n).item())\n",
    "\n",
    "print('Best w = \\n', w)\n",
    "\n",
    "a = w[0].item()  # value for w1\n",
    "b = w[1].item()  # value for w2"
   ]
  },
  {
   "cell_type": "code",
   "execution_count": 15,
   "metadata": {},
   "outputs": [
    {
     "data": {
      "image/png": "[encoded data removed]",
      "text/plain": [
       "<Figure size 640x480 with 1 Axes>"
      ]
     },
     "metadata": {},
     "output_type": "display_data"
    }
   ],
   "source": [
    "x_line = np.linspace(0, 6, 100)\n",
    "y_line = a * x_line + b  # y = ax+b\n",
    "\n",
    "# Plot points \n",
    "plt.scatter(x_points, y_points, color='blue', marker='x')\n",
    "plt.xlim([0, 4])\n",
    "plt.ylim([0, 3])\n",
    "\n",
    "# plot regressopm\n",
    "plt.plot(x_line, y_line, linestyle='-', color='red')\n",
    "\n",
    "plt.xlabel('x-axis')\n",
    "plt.ylabel('y-axis')\n",
    "plt.show()"
   ]
  },
  {
   "cell_type": "code",
   "execution_count": 30,
   "metadata": {},
   "outputs": [
    {
     "name": "stdout",
     "output_type": "stream",
     "text": [
      "Best w = \n",
      " [[ 0.31695242]\n",
      " [-0.54023596]\n",
      " [ 0.71344606]]\n"
     ]
    }
   ],
   "source": [
    "# Question 3\n",
    "x_points = [1, 2, 1.5, 3]\n",
    "y_points = [1, 1, 0, 2]\n",
    "\n",
    "n = len(x_points)\n",
    "\n",
    "def phi(x):\n",
    "    return np.array([[x**2, x, 1]]).T\n",
    "\n",
    "def f(w, n):\n",
    "    return 1/n * sum((w.T.dot(phi(x_points[i]))-y_points[i])**2 for i in range(n))\n",
    "\n",
    "def f_prime(w, n):\n",
    "    sigma = sum((w.T.dot(phi(x_points[i]))-y_points[i])*(phi(x_points[i])) for i in range(n))\n",
    "    return (2/n) * sigma\n",
    "\n",
    "# Gradient descent\n",
    "eta = 0.02\n",
    "\n",
    "f_value_list = []\n",
    "w = np.array([[1], [1], [1]])\n",
    "\n",
    "for i in range(1000):\n",
    "    w = w - eta * f_prime(w, n)\n",
    "    f_value_list.append(f(w, n).item())\n",
    "\n",
    "print('Best w = \\n', w)\n",
    "a = w[0].item()\n",
    "b = w[1].item()\n",
    "c = w[2].item()"
   ]
  },
  {
   "cell_type": "code",
   "execution_count": 31,
   "metadata": {},
   "outputs": [
    {
     "data": {
      "image/png": "[encoded data removed]",
      "text/plain": [
       "<Figure size 640x480 with 1 Axes>"
      ]
     },
     "metadata": {},
     "output_type": "display_data"
    }
   ],
   "source": [
    "x_line = np.linspace(0, 6, 100)\n",
    "y_line = a*x_line**2 + b*x_line + c  # y = ax+b\n",
    "\n",
    "# Plot points \n",
    "plt.scatter(x_points, y_points, color='blue', marker='x')\n",
    "plt.xlim([min(x_points)-1, max(x_points)+1])\n",
    "plt.ylim([min(y_points)-1, max(y_points)+1])\n",
    "\n",
    "# plot regressopm\n",
    "plt.plot(x_line, y_line, linestyle='-', color='red')\n",
    "\n",
    "plt.xlabel('x-axis')\n",
    "plt.ylabel('y-axis')\n",
    "plt.show()"
   ]
  },
  {
   "cell_type": "code",
   "execution_count": 10,
   "metadata": {},
   "outputs": [
    {
     "name": "stdout",
     "output_type": "stream",
     "text": [
      "input: [0.17251002 0.93515845 0.93609683]\n",
      "Numpy ᐁf: [0.91206197 0.22687825 0.38276943] \n",
      " Hand-Written ᐁf: [[0.91206197 0.22687825 0.38276943]] \n",
      "\n",
      "input: [0.90488774 0.30892387 0.6938505 ]\n",
      "Numpy ᐁf: [0.91206197 0.22687825 0.38276943] \n",
      " Hand-Written ᐁf: [[0.91206197 0.22687825 0.38276943]] \n",
      "\n",
      "input: [0.99838107 0.6547034  0.84139076]\n",
      "Numpy ᐁf: [0.91206197 0.22687825 0.38276943] \n",
      " Hand-Written ᐁf: [[0.91206197 0.22687825 0.38276943]] \n",
      "\n"
     ]
    }
   ],
   "source": [
    "# Question 5\n",
    "# 1\n",
    "import autograd.numpy as np\n",
    "from autograd import grad \n",
    "n = 3\n",
    "\n",
    "y = np.random.random((n, 1))\n",
    "\n",
    "def f(x):\n",
    "    return np.dot(np.transpose(y), x)\n",
    "\n",
    "def f_prime(x):\n",
    "    return y\n",
    "\n",
    "grad_foo = grad(f)\n",
    "\n",
    "for i in range(3):\n",
    "    x = np.random.default_rng().random(3)\n",
    "    print(f'input: {x}')\n",
    "    print(f'Numpy ᐁf: {grad_foo(x)} \\n Theoretical ᐁf: {np.transpose(f_prime(x))} \\n')  # Turn into rows to make it easier to read"
   ]
  },
  {
   "cell_type": "code",
   "execution_count": 19,
   "metadata": {},
   "outputs": [
    {
     "name": "stdout",
     "output_type": "stream",
     "text": [
      "input: [0.00674246 0.97503256]\n",
      "Numpy ᐁf: [0.40440009 1.73072346] \n",
      " Theoretical ᐁf: [0.40440009 1.73072346] \n",
      "\n",
      "input: [0.89305667 0.7755499 ]\n",
      "Numpy ᐁf: [1.45102996 1.73699951] \n",
      " Theoretical ᐁf: [1.45102996 1.73699951] \n",
      "\n",
      "input: [0.35973733 0.52829074]\n",
      "Numpy ᐁf: [0.67213878 1.08229319] \n",
      " Theoretical ᐁf: [0.67213878 1.08229319] \n",
      "\n"
     ]
    }
   ],
   "source": [
    "# 2\n",
    "n = 2\n",
    "\n",
    "A = np.random.random((n, n))\n",
    "\n",
    "def f(x, A):\n",
    "    return np.dot(np.dot(np.transpose(x), A), x)\n",
    "\n",
    "def f_prime(x, A):\n",
    "    return np.dot(np.transpose(A)+A, x)\n",
    "\n",
    "grad_foo = grad(f)\n",
    "\n",
    "for i in range(3):\n",
    "    x = np.random.default_rng().random(n)\n",
    "    print(f'input: {x}')\n",
    "    print(f'Numpy ᐁf: {grad_foo(x, A)} \\n Theoretical ᐁf: {np.transpose(f_prime(x, A))} \\n')  # Turn into rows to make it easier to read"
   ]
  },
  {
   "cell_type": "code",
   "execution_count": 25,
   "metadata": {},
   "outputs": [
    {
     "name": "stdout",
     "output_type": "stream",
     "text": [
      "input: [[0.80645275 0.87711276]]\n",
      "Numpy ᐁf: [[0.21120164 1.59671804]] \n",
      " Hand-Written ᐁf: [[0.21120164 1.59671804]] \n",
      "\n",
      "input: [[0.9641612  0.13087862]]\n",
      "Numpy ᐁf: [[0.04167946 0.43209515]] \n",
      " Hand-Written ᐁf: [[0.04167946 0.43209515]] \n",
      "\n",
      "input: [[0.40507237 0.52812823]]\n",
      "Numpy ᐁf: [[0.12619915 0.94292343]] \n",
      " Hand-Written ᐁf: [[0.12619915 0.94292343]] \n",
      "\n"
     ]
    }
   ],
   "source": [
    "# 3\n",
    "n = 2\n",
    "\n",
    "A = np.random.random((n, n))\n",
    "\n",
    "def f(x, A):\n",
    "    return np.trace(np.dot(np.dot(np.transpose(x), A), x))\n",
    "\n",
    "def f_prime(x, A):\n",
    "    return np.dot((np.transpose(A)+A), x)\n",
    "\n",
    "grad_foo = grad(f)\n",
    "\n",
    "for i in range(3):\n",
    "    x = np.random.default_rng().random((n, 1))\n",
    "    # Turn into all vectors rows to make output easier to read\n",
    "    print(f'input: {np.transpose(x)}')\n",
    "    print(f'Numpy ᐁf: {np.transpose(grad_foo(x, A))} \\n Hand-Written ᐁf: {np.transpose(f_prime(x, A))} \\n')  "
   ]
  },
  {
   "cell_type": "code",
   "execution_count": 26,
   "metadata": {},
   "outputs": [
    {
     "name": "stdout",
     "output_type": "stream",
     "text": [
      "input: [[0.60605118 0.73918889]]\n",
      "Numpy ᐁf: [[0.75855028 0.9090237 ]] \n",
      " Hand-Written ᐁf: [[0.75855028 0.9090237 ]] \n",
      "\n",
      "input: [[0.40582601 0.83258359]]\n",
      "Numpy ᐁf: [[0.75855028 0.9090237 ]] \n",
      " Hand-Written ᐁf: [[0.75855028 0.9090237 ]] \n",
      "\n",
      "input: [[0.56982709 0.53671439]]\n",
      "Numpy ᐁf: [[0.75855028 0.9090237 ]] \n",
      " Hand-Written ᐁf: [[0.75855028 0.9090237 ]] \n",
      "\n"
     ]
    }
   ],
   "source": [
    "# 4\n",
    "n = 2\n",
    "\n",
    "x = np.random.random((n, 1))\n",
    "\n",
    "def f(w, x):\n",
    "    z = np.dot(np.transpose(w), x)\n",
    "\n",
    "    if z > 0:\n",
    "        return z\n",
    "    else:\n",
    "        return 0 \n",
    "\n",
    "def f_prime(w, x):\n",
    "    z = np.dot(np.transpose(w), x)\n",
    "\n",
    "    if z > 0:\n",
    "        return 1 * x \n",
    "    else: \n",
    "        return 0 * x\n",
    "\n",
    "grad_foo = grad(f)\n",
    "\n",
    "for i in range(3):\n",
    "    w = np.random.default_rng().random((n, 1))\n",
    "    # Turn into all vectors rows to make output easier to read\n",
    "    print(f'input: {np.transpose(w)}')\n",
    "    print(f'Numpy ᐁf: {np.transpose(grad_foo(w, x))} \\n Hand-Written ᐁf: {np.transpose(f_prime(w, x))} \\n') "
   ]
  },
  {
   "cell_type": "code",
   "execution_count": 32,
   "metadata": {},
   "outputs": [
    {
     "name": "stdout",
     "output_type": "stream",
     "text": [
      "input: [[0.94538954 0.74790654]]\n",
      "Numpy ᐁf: [[-1.46463648 -0.13147924]] \n",
      " Hand-Written ᐁf: [[-1.46463648 -0.13147924]] \n",
      "\n",
      "input: [[0.42520415 0.79349232]]\n",
      "Numpy ᐁf: [[-13.08565678  -5.753399  ]] \n",
      " Hand-Written ᐁf: [[-13.08565678  -5.753399  ]] \n",
      "\n",
      "input: [[0.0786823  0.82074711]]\n",
      "Numpy ᐁf: [[-20.86227909  -9.51711794]] \n",
      " Hand-Written ᐁf: [[-20.86227909  -9.51711794]] \n",
      "\n"
     ]
    }
   ],
   "source": [
    "# 5\n",
    "n = 3\n",
    "\n",
    "x_arrays = [np.array([[1], [1]]), np.array([[3], [2]]), np.array([[5], [2]])]\n",
    "y_list = [1, 4, 7]\n",
    "\n",
    "def f(w):\n",
    "    return 1/n * sum((np.dot(np.transpose(w), x_arrays[i]) - y_list[i])**2 for i in range(n))\n",
    "\n",
    "def f_prime(w):\n",
    "    return 2/n * sum((np.dot(np.transpose(w), x_arrays[i]) - y_list[i])* x_arrays[i] for i in range(n))\n",
    "\n",
    "grad_foo = grad(f)\n",
    "\n",
    "for i in range(3):\n",
    "    w = np.random.default_rng().random((2, 1))\n",
    "    # Turn into all vectors rows to make output easier to read\n",
    "    print(f'input: {np.transpose(w)}')\n",
    "    print(f'Numpy ᐁf: {np.transpose(grad_foo(w))} \\n Hand-Written ᐁf: {np.transpose(f_prime(w))} \\n') "
   ]
  },
  {
   "cell_type": "code",
   "execution_count": 36,
   "metadata": {},
   "outputs": [
    {
     "name": "stdout",
     "output_type": "stream",
     "text": [
      "input: [[0.30038613 0.74517938]]\n",
      "Numpy ᐁf: [[-0.32067451 -0.36454354]] \n",
      " Hand-Written ᐁf: [[-0.32067451 -0.36454354]] \n",
      "\n",
      "input: [[0.88123586 0.09548319]]\n",
      "Numpy ᐁf: [[-0.37946248 -0.27550542]] \n",
      " Hand-Written ᐁf: [[-0.37946248 -0.27550542]] \n",
      "\n",
      "input: [[0.32080669 0.59528649]]\n",
      "Numpy ᐁf: [[-0.30508784 -0.33110157]] \n",
      " Hand-Written ᐁf: [[-0.30508784 -0.33110157]] \n",
      "\n"
     ]
    }
   ],
   "source": [
    "# 6\n",
    "n = 2\n",
    "\n",
    "A = np.random.random((n, n))\n",
    "\n",
    "def f(x, A):\n",
    "    return np.exp(-np.trace(np.dot(np.dot(np.transpose(x), A), x)))\n",
    "\n",
    "def f_prime(x, A):\n",
    "    return np.exp(-np.trace(np.dot(np.dot(np.transpose(x), A), x))) * (-np.dot((np.transpose(A)+A), x))\n",
    "\n",
    "grad_foo = grad(f)\n",
    "\n",
    "for i in range(3):\n",
    "    x = np.random.default_rng().random((n, 1))\n",
    "    # Turn into all vectors rows to make output easier to read\n",
    "    print(f'input: {np.transpose(x)}')\n",
    "    print(f'Numpy ᐁf: {np.transpose(grad_foo(x, A))} \\n Hand-Written ᐁf: {np.transpose(f_prime(x, A))} \\n') "
   ]
  },
  {
   "cell_type": "code",
   "execution_count": 38,
   "metadata": {},
   "outputs": [
    {
     "name": "stdout",
     "output_type": "stream",
     "text": [
      "input: [[0.49240942 0.54473836]]\n",
      "Numpy ᐁf: [[-0.44907698 -0.47231559]] \n",
      " Hand-Written ᐁf: [[-0.44907698 -0.47231559]] \n",
      "\n",
      "input: [[0.44185377 0.4689734 ]]\n",
      "Numpy ᐁf: [[-0.426556  -0.4467444]] \n",
      " Hand-Written ᐁf: [[-0.426556  -0.4467444]] \n",
      "\n",
      "input: [[0.89907529 0.81600349]]\n",
      "Numpy ᐁf: [[-0.42098746 -0.43393522]] \n",
      " Hand-Written ᐁf: [[-0.42098746 -0.43393522]] \n",
      "\n"
     ]
    }
   ],
   "source": [
    "# 7\n",
    "n = 2\n",
    "\n",
    "A = np.random.random((n, n))\n",
    "\n",
    "def f(x, A):\n",
    "    return np.exp(-np.dot(np.dot(np.transpose(x), A), x))\n",
    "\n",
    "def f_prime(x, A):\n",
    "    return np.exp(-np.dot(np.dot(np.transpose(x), A), x)) * (-np.dot((np.transpose(A)+A), x))\n",
    "\n",
    "grad_foo = grad(f)\n",
    "\n",
    "for i in range(3):\n",
    "    x = np.random.default_rng().random((n, 1))\n",
    "    # Turn into all vectors rows to make output easier to read\n",
    "    print(f'input: {np.transpose(x)}')\n",
    "    print(f'Numpy ᐁf: {np.transpose(grad_foo(x, A))} \\n Hand-Written ᐁf: {np.transpose(f_prime(x, A))} \\n') "
   ]
  },
  {
   "cell_type": "code",
   "execution_count": 43,
   "metadata": {},
   "outputs": [
    {
     "name": "stdout",
     "output_type": "stream",
     "text": [
      "input: -0.08388693715889321\n",
      "Numpy ᐁf: 0.24956070167654856 \n",
      " Hand-Written ᐁf: 0.24956070167654856 \n",
      "\n",
      "input: 0.09040201912384196\n",
      "Numpy ᐁf: 0.2494899121098976 \n",
      " Hand-Written ᐁf: 0.24948991210989757 \n",
      "\n",
      "input: 1.0331268628683925\n",
      "Numpy ᐁf: 0.19358346379557884 \n",
      " Hand-Written ᐁf: 0.1935834637955788 \n",
      "\n"
     ]
    }
   ],
   "source": [
    "# 8\n",
    "\n",
    "def f(z):\n",
    "    return 1/(1+np.exp(-z))\n",
    "\n",
    "def f_prime(z):\n",
    "    return (np.exp(-z)/((1 + np.exp(-z))**2))\n",
    "\n",
    "grad_foo = grad(f)\n",
    "\n",
    "for i in range(3):\n",
    "    z = np.random.randn()\n",
    "    # Turn into all vectors rows to make output easier to read\n",
    "    print(f'input: {z}')\n",
    "    print(f'Numpy ᐁf: {grad_foo(z)} \\n Hand-Written ᐁf: {f_prime(z)} \\n') "
   ]
  },
  {
   "cell_type": "code",
   "execution_count": 46,
   "metadata": {},
   "outputs": [
    {
     "name": "stdout",
     "output_type": "stream",
     "text": [
      "input: [[0.95901773 0.688328  ]]\n",
      "Numpy ᐁf: [[0.03392145 0.07592235]] \n",
      " Hand-Written ᐁf: [[0.03392145 0.07592235]] \n",
      "\n",
      "input: [[0.73869506 0.88355926]]\n",
      "Numpy ᐁf: [[0.03373653 0.07550846]] \n",
      " Hand-Written ᐁf: [[0.03373653 0.07550846]] \n",
      "\n",
      "input: [[0.149465   0.21499876]]\n",
      "Numpy ᐁf: [[0.03490079 0.07811428]] \n",
      " Hand-Written ᐁf: [[0.03490079 0.07811428]] \n",
      "\n"
     ]
    }
   ],
   "source": [
    "# 9\n",
    "n = 2\n",
    "\n",
    "x = np.random.random((n, 1))\n",
    "\n",
    "def f(w, x):\n",
    "    return 1/(1+np.exp(-np.dot(np.transpose(w), x)))\n",
    "\n",
    "def f_prime(w, x):\n",
    "    return (np.dot(x, np.exp(-np.dot(np.transpose(w), x))))/((1+np.exp(-np.dot(np.transpose(w), x)))**2)\n",
    "\n",
    "grad_foo = grad(f)\n",
    "\n",
    "for i in range(3):\n",
    "    w = np.random.default_rng().random((n, 1))\n",
    "    # Turn into all vectors rows to make output easier to read\n",
    "    print(f'input: {np.transpose(w)}')\n",
    "    print(f'Numpy ᐁf: {np.transpose(grad_foo(w, x))} \\n Hand-Written ᐁf: {np.transpose(f_prime(w, x))} \\n') "
   ]
  },
  {
   "cell_type": "code",
   "execution_count": 53,
   "metadata": {},
   "outputs": [
    {
     "name": "stdout",
     "output_type": "stream",
     "text": [
      "input: [[0.43493212 0.95422547]]\n",
      "Numpy ᐁf: [[1. 1.]] \n",
      " Hand-Written ᐁf: [[1. 1.]] \n",
      "\n",
      "input: [[-0.78420838 -1.2465865 ]]\n",
      "Numpy ᐁf: [[-1. -1.]] \n",
      " Hand-Written ᐁf: [[-1. -1.]] \n",
      "\n",
      "input: [[-1.58764284  1.41825076]]\n",
      "Numpy ᐁf: [[-1.  1.]] \n",
      " Hand-Written ᐁf: [[-1.  1.]] \n",
      "\n"
     ]
    }
   ],
   "source": [
    "# 10\n",
    "n = 2\n",
    "\n",
    "def f(x):\n",
    "    return np.sum(np.abs(x))  #L1 norm is the same as sum of absolute values\n",
    "\n",
    "def f_prime(x):\n",
    "    return np.sign(x)\n",
    "\n",
    "grad_foo = grad(f)\n",
    "\n",
    "for i in range(3):\n",
    "    x= np.random.randn(n,1)\n",
    "    # Turn into all vectors rows to make output easier to read\n",
    "    print(f'input: {np.transpose(x)}')\n",
    "    print(f'Numpy ᐁf: {np.transpose(grad_foo(x))} \\n Hand-Written ᐁf: {np.transpose(f_prime(x))} \\n') "
   ]
  },
  {
   "cell_type": "code",
   "execution_count": 57,
   "metadata": {},
   "outputs": [
    {
     "name": "stdout",
     "output_type": "stream",
     "text": [
      "input: [[1.41468234 1.49041062]]\n",
      "Numpy ᐁf: [[0.68844047 0.72529285]] \n",
      " Hand-Written ᐁf: [[0.68844047 0.72529285]] \n",
      "\n",
      "input: [[-0.159417   -1.76849926]]\n",
      "Numpy ᐁf: [[-0.08977851 -0.99596176]] \n",
      " Hand-Written ᐁf: [[-0.08977851 -0.99596176]] \n",
      "\n",
      "input: [[ 0.65377909 -0.11736494]]\n",
      "Numpy ᐁf: [[ 0.98426598 -0.17669319]] \n",
      " Hand-Written ᐁf: [[ 0.98426598 -0.17669319]] \n",
      "\n"
     ]
    }
   ],
   "source": [
    "# 11\n",
    "n=2\n",
    "\n",
    "def f(x): \n",
    "\treturn np.sqrt(sum(x**2))\n",
    "\n",
    "def f_prime(x):\n",
    "    return x/(np.sqrt(sum(x**2)))\n",
    "\n",
    "grad_foo = grad(f)\n",
    "\n",
    "for i in range(3):\n",
    "    x= np.random.randn(n,1)\n",
    "    # Turn into all vectors rows to make output easier to read\n",
    "    print(f'input: {np.transpose(x)}')\n",
    "    print(f'Numpy ᐁf: {np.transpose(grad_foo(x))} \\n Hand-Written ᐁf: {np.transpose(f_prime(x))} \\n') "
   ]
  },
  {
   "cell_type": "code",
   "execution_count": 65,
   "metadata": {},
   "outputs": [
    {
     "name": "stdout",
     "output_type": "stream",
     "text": [
      "input: [[0.52420031 0.45113726]]\n",
      "Numpy ᐁf: [[1.9666781  1.79743957]] \n",
      " Hand-Written ᐁf: [[1.9666781  1.79743957]] \n",
      "\n",
      "input: [[0.85950209 0.36325494]]\n",
      "Numpy ᐁf: [[2.78078036 1.96305405]] \n",
      " Hand-Written ᐁf: [[2.78078036 1.96305405]] \n",
      "\n",
      "input: [[-1.36741682 -0.41964411]]\n",
      "Numpy ᐁf: [[-4.2374367 -2.7093484]] \n",
      " Hand-Written ᐁf: [[-4.2374367 -2.7093484]] \n",
      "\n"
     ]
    }
   ],
   "source": [
    "# 13\n",
    "n = 2\n",
    "lambda_ = np.random.randn()\n",
    "\n",
    "A = np.random.random((n, n))\n",
    "\n",
    "def f(x): \n",
    "\treturn np.dot(np.dot(np.transpose(x), A), x) - lambda_ * (np.dot(np.transpose(x), x)-1)\n",
    "\n",
    "def f_prime(x):\n",
    "    return np.dot((np.transpose(A)+A), x) - 2 * lambda_ * x\n",
    "\n",
    "\n",
    "grad_foo = grad(f)\n",
    "\n",
    "for i in range(3):\n",
    "    x = np.random.randn(n,1)\n",
    "    # Turn into all vectors rows to make output easier to read\n",
    "    print(f'input: {np.transpose(x)}')\n",
    "    print(f'Numpy ᐁf: {np.transpose(grad_foo(x))} \\n Hand-Written ᐁf: {np.transpose(f_prime(x))} \\n') "
   ]
  },
  {
   "cell_type": "code",
   "execution_count": 73,
   "metadata": {},
   "outputs": [
    {
     "name": "stdout",
     "output_type": "stream",
     "text": [
      "input: -0.07195700758201024\n",
      "Numpy ᐁf: 3.0590341473045273 \n",
      " Hand-Written ᐁf: 3.059034147304527 \n",
      "\n",
      "input: 0.10661454036629238\n",
      "Numpy ᐁf: 2.89208315692016 \n",
      " Hand-Written ᐁf: 2.89208315692016 \n",
      "\n",
      "input: -0.7105644900640019\n",
      "Numpy ᐁf: 3.6560841975068223 \n",
      " Hand-Written ᐁf: 3.6560841975068215 \n",
      "\n"
     ]
    }
   ],
   "source": [
    "# 14\n",
    "sigma = np.random.randn()\n",
    "x_values = [0, 2, 3, 1, 10]\n",
    "n = len(x_values)\n",
    "\n",
    "\n",
    "def f(u):\n",
    "    return sum(np.log(1/np.sqrt(2*np.pi*sigma))- ((x_values[i] - u)**2)/(2*sigma**2) for i in range(n))\n",
    "\n",
    "def f_prime(u):\n",
    "    return (sum(x_values[i]-u for i in range(n)))*(1/sigma**2)\n",
    "\n",
    "grad_foo = grad(f)\n",
    "\n",
    "for i in range(3):\n",
    "    u = np.random.randn()\n",
    "    # Turn into all vectors rows to make output easier to read\n",
    "    print(f'input: {u}')\n",
    "    print(f'Numpy ᐁf: {grad_foo(u)} \\n Hand-Written ᐁf: {f_prime(u)} \\n') "
   ]
  },
  {
   "cell_type": "code",
   "execution_count": 79,
   "metadata": {},
   "outputs": [
    {
     "name": "stdout",
     "output_type": "stream",
     "text": [
      "input: -0.9083993529779746\n",
      "Numpy ᐁf: -21.504187099659053 \n",
      " Hand-Written ᐁf: -21.504187099659053 \n",
      "\n",
      "input: 1.5615712572457368\n",
      "Numpy ᐁf: -12.798096803588152 \n",
      " Hand-Written ᐁf: -12.798096803588148 \n",
      "\n",
      "input: -0.6037676312796345\n",
      "Numpy ᐁf: -24.281331659669995 \n",
      " Hand-Written ᐁf: -24.28133165967 \n",
      "\n"
     ]
    }
   ],
   "source": [
    "# 15\n",
    "x_values = [3, 1, -1, 5, 8]\n",
    "n = len(x_values)\n",
    "\n",
    "\n",
    "def f(lambda_):\n",
    "    return sum(np.log(lambda_) - lambda_*x_values[i] for i in range(n))\n",
    "\n",
    "def f_prime(lambda_):\n",
    "    return sum(((1/lambda_)-x_values[i]) for i in range(n))\n",
    "\n",
    "grad_foo = grad(f)\n",
    "\n",
    "for i in range(3):\n",
    "    lambda_ = np.random.randn()\n",
    "    # Turn into all vectors rows to make output easier to read\n",
    "    print(f'input: {lambda_}')\n",
    "    print(f'Numpy ᐁf: {grad_foo(lambda_)} \\n Hand-Written ᐁf: {f_prime(lambda_)} \\n') "
   ]
  },
  {
   "cell_type": "code",
   "execution_count": 83,
   "metadata": {},
   "outputs": [
    {
     "name": "stdout",
     "output_type": "stream",
     "text": [
      "input: -0.6249698816989008\n",
      "Numpy ᐁf: -9.47728853298199 \n",
      " Hand-Written ᐁf: -9.47728853298199 \n",
      "\n",
      "input: -0.7488018866965893\n",
      "Numpy ᐁf: -8.200967183001072 \n",
      " Hand-Written ᐁf: -8.200967183001072 \n",
      "\n",
      "input: 1.6367169180041996\n",
      "Numpy ᐁf: 10.296700147223728 \n",
      " Hand-Written ᐁf: 10.296700147223726 \n",
      "\n"
     ]
    }
   ],
   "source": [
    "# 16\n",
    "alpha_values = [0, 1, 1, 0, 1, 1, 0, 0, 0]\n",
    "n = len(alpha_values)\n",
    "\n",
    "\n",
    "def f(p):\n",
    "    return sum((alpha_values[i]*np.log(p) + (1-alpha_values[i])*np.log(1-p)) for i in range(n))\n",
    "\n",
    "def f_prime(p):\n",
    "    return sum(((alpha_values[i]/p) - (1-alpha_values[i])/(1-p)) for i in range(n))\n",
    "\n",
    "grad_foo = grad(f)\n",
    "\n",
    "for i in range(3):\n",
    "    p = np.random.randn()\n",
    "    # Turn into all vectors rows to make output easier to read\n",
    "    print(f'input: {p}')\n",
    "    print(f'Numpy ᐁf: {grad_foo(p)} \\n Hand-Written ᐁf: {f_prime(p)} \\n') "
   ]
  },
  {
   "cell_type": "code",
   "execution_count": 86,
   "metadata": {},
   "outputs": [
    {
     "data": {
      "text/plain": [
       "array([-0.82718022])"
      ]
     },
     "execution_count": 86,
     "metadata": {},
     "output_type": "execute_result"
    }
   ],
   "source": [
    "sorted(np.random.randn(2, 1))[0]"
   ]
  },
  {
   "cell_type": "code",
   "execution_count": 107,
   "metadata": {},
   "outputs": [
    {
     "name": "stdout",
     "output_type": "stream",
     "text": [
      "a: [0.15192074] | b: [0.78124136]\n",
      "Numpy ᐁf: [[[ 4.76704543]]\n",
      "\n",
      " [[-4.76704543]]] \n",
      " Hand-Written ᐁf: [[[ 4.76704543]]\n",
      "\n",
      " [[-4.76704543]]] \n",
      "\n",
      "a: [0.75489596] | b: [0.81260578]\n",
      "Numpy ᐁf: [[[ 51.98421272]]\n",
      "\n",
      " [[-51.98421272]]] \n",
      " Hand-Written ᐁf: [[[ 51.98421272]]\n",
      "\n",
      " [[-51.98421272]]] \n",
      "\n",
      "a: [0.48771604] | b: [0.56418739]\n",
      "Numpy ᐁf: [[[ 39.2303764]]\n",
      "\n",
      " [[-39.2303764]]] \n",
      " Hand-Written ᐁf: [[[ 39.2303764]]\n",
      "\n",
      " [[-39.2303764]]] \n",
      "\n"
     ]
    }
   ],
   "source": [
    "# 17\n",
    "n = 3\n",
    "\n",
    "def f(x):\n",
    "    a = x[0]\n",
    "    b = x[1]\n",
    "    return sum(np.log(1/(a-b)) for i in range(n))\n",
    "\n",
    "def f_prime(a, b):\n",
    "    return np.array([[n/(b-a)], [-n/(b-a)]])\n",
    "\n",
    "grad_foo = grad(f)\n",
    "\n",
    "for i in range(3):\n",
    "    a, b = np.random.uniform(size=2)\n",
    "\n",
    "    if a > b:\n",
    "        a, b = b, a\n",
    "\n",
    "    a = np.array([a], dtype=np.float64)\n",
    "    b = np.array([b], dtype=np.float64)\n",
    "\n",
    "    x = np.array([[a], [b]])\n",
    "\n",
    "    # Turn into all vectors rows to make output easier to read\n",
    "    print(f'a: {a} | b: {b}')\n",
    "    print(f'Numpy ᐁf: {grad_foo(x)} \\n Hand-Written ᐁf: {f_prime(a, b)} \\n') "
   ]
  }
 ],
 "metadata": {
  "kernelspec": {
   "display_name": "ds",
   "language": "python",
   "name": "python3"
  },
  "language_info": {
   "codemirror_mode": {
    "name": "ipython",
    "version": 3
   },
   "file_extension": ".py",
   "mimetype": "text/x-python",
   "name": "python",
   "nbconvert_exporter": "python",
   "pygments_lexer": "ipython3",
   "version": "3.11.7"
  }
 },
 "nbformat": 4,
 "nbformat_minor": 2
}
