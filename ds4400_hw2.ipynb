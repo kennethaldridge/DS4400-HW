{
 "cells": [
  {
   "cell_type": "code",
   "execution_count": 9,
   "metadata": {},
   "outputs": [],
   "source": [
    "import numpy as np\n",
    "from numpy import genfromtxt\n",
    "\n",
    "# Question 1\n",
    "A = genfromtxt('hw_csv_file/hw_2_A.csv', delimiter=',')\n",
    "B = genfromtxt('hw_csv_file/hw_2_B.csv', delimiter=',')\n",
    "C = genfromtxt('hw_csv_file/hw_2_C.csv', delimiter=',')\n",
    "D = genfromtxt('hw_csv_file/hw_2_D.csv', delimiter=',')\n",
    "E = genfromtxt('hw_csv_file/hw_2_E.csv', delimiter=',')\n",
    "\n",
    "x = genfromtxt('hw_csv_file/hw_2_x.csv', delimiter=',')\n",
    "x = np.reshape(x, (len(x), 1))\n",
    "\n",
    "y = genfromtxt('hw_csv_file/hw_2_y.csv', delimiter=',')\n",
    "y = np.reshape(y, (len(y), 1))\n",
    "\n",
    "z = genfromtxt('hw_csv_file/hw_2_z.csv', delimiter=',')\n",
    "z = np.reshape(z, (len(z), 1))\n"
   ]
  },
  {
   "cell_type": "code",
   "execution_count": 10,
   "metadata": {},
   "outputs": [
    {
     "name": "stdout",
     "output_type": "stream",
     "text": [
      "1): 292.05\n"
     ]
    }
   ],
   "source": [
    "# 1\n",
    "ans = np.max(np.trace(np.inner(A, A)))\n",
    "print(f'1): {ans}')"
   ]
  },
  {
   "cell_type": "code",
   "execution_count": 11,
   "metadata": {},
   "outputs": [
    {
     "name": "stdout",
     "output_type": "stream",
     "text": [
      "2): 10.449999999999996\n"
     ]
    }
   ],
   "source": [
    "# 2\n",
    "ans = np.min(np.trace(np.inner(A, B)))\n",
    "print(f'2): {ans}')"
   ]
  },
  {
   "cell_type": "code",
   "execution_count": 12,
   "metadata": {},
   "outputs": [
    {
     "name": "stdout",
     "output_type": "stream",
     "text": [
      "2): -3.49\n"
     ]
    }
   ],
   "source": [
    "# 3\n",
    "ans = np.sum(np.trace(np.inner(C, D)))\n",
    "print(f'3): {ans}')"
   ]
  },
  {
   "cell_type": "code",
   "execution_count": 13,
   "metadata": {},
   "outputs": [
    {
     "name": "stdout",
     "output_type": "stream",
     "text": [
      "4): -0.47000000000000014\n"
     ]
    }
   ],
   "source": [
    "# 4\n",
    "ans = np.average((C+D).dot(x))\n",
    "print(f'4): {ans}')"
   ]
  },
  {
   "cell_type": "code",
   "execution_count": 15,
   "metadata": {},
   "outputs": [
    {
     "name": "stdout",
     "output_type": "stream",
     "text": [
      "5): 0.349\n"
     ]
    }
   ],
   "source": [
    "# 5\n",
    "ans = np.max(np.trace(np.inner(C.T, D.T))* x)\n",
    "print(f'5): {ans}')"
   ]
  },
  {
   "cell_type": "code",
   "execution_count": 16,
   "metadata": {},
   "outputs": [
    {
     "name": "stdout",
     "output_type": "stream",
     "text": [
      "6): -3.7199999999999998\n"
     ]
    }
   ],
   "source": [
    "# 6\n",
    "ans = np.min(x.dot(z.T))\n",
    "print(f'6): {ans}')"
   ]
  },
  {
   "cell_type": "code",
   "execution_count": 23,
   "metadata": {},
   "outputs": [
    {
     "name": "stdout",
     "output_type": "stream",
     "text": [
      "7): [[-3.72  0.12  0.24]\n",
      " [-1.86  0.06  0.12]\n",
      " [ 0.   -0.   -0.  ]\n",
      " [ 0.31 -0.01 -0.02]\n",
      " [-3.72  0.12  0.24]]\n"
     ]
    }
   ],
   "source": [
    "# 7\n",
    "ans = x.dot(z.T)\n",
    "print(f'7): {ans}')"
   ]
  },
  {
   "cell_type": "code",
   "execution_count": 24,
   "metadata": {},
   "outputs": [
    {
     "name": "stdout",
     "output_type": "stream",
     "text": [
      "8): -2987.2000000000003\n"
     ]
    }
   ],
   "source": [
    "# 8\n",
    "ans = np.sum(A+B-10)\n",
    "print(f'8): {ans}')"
   ]
  },
  {
   "cell_type": "code",
   "execution_count": 25,
   "metadata": {},
   "outputs": [
    {
     "name": "stdout",
     "output_type": "stream",
     "text": [
      "9): -2.774444444444445\n"
     ]
    }
   ],
   "source": [
    "# 9\n",
    "ans = np.average(A.T.dot(B))\n",
    "print(f'9): {ans}')"
   ]
  },
  {
   "cell_type": "code",
   "execution_count": 26,
   "metadata": {},
   "outputs": [
    {
     "name": "stdout",
     "output_type": "stream",
     "text": [
      "10): [[ 8.8684]\n",
      " [-4.502 ]\n",
      " [-3.0041]\n",
      " [-5.5886]]\n"
     ]
    }
   ],
   "source": [
    "# 10\n",
    "ans = E.T.dot(C.T.dot(D.dot(x)))\n",
    "print(f'10): {ans}')"
   ]
  }
 ],
 "metadata": {
  "kernelspec": {
   "display_name": "ds",
   "language": "python",
   "name": "python3"
  },
  "language_info": {
   "codemirror_mode": {
    "name": "ipython",
    "version": 3
   },
   "file_extension": ".py",
   "mimetype": "text/x-python",
   "name": "python",
   "nbconvert_exporter": "python",
   "pygments_lexer": "ipython3",
   "version": "3.11.7"
  }
 },
 "nbformat": 4,
 "nbformat_minor": 2
}
