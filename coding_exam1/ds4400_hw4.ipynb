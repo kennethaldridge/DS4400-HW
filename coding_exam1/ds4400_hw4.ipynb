{
 "cells": [
  {
   "cell_type": "markdown",
   "metadata": {},
   "source": [
    "Question 1"
   ]
  },
  {
   "cell_type": "code",
   "execution_count": null,
   "metadata": {},
   "outputs": [
    {
     "name": "stdout",
     "output_type": "stream",
     "text": [
      "Variance for a): 17.2\n"
     ]
    }
   ],
   "source": [
    "# 2)\n",
    "\n",
    "import numpy as np\n",
    "# a)\n",
    "sample = np.array([4, 7, 9, 11, 15])\n",
    "var = np.var(sample, ddof=1)  # use ddof of 1 because sample\n",
    "print(f'Variance for a): {var}')"
   ]
  },
  {
   "cell_type": "code",
   "execution_count": null,
   "metadata": {},
   "outputs": [
    {
     "name": "stdout",
     "output_type": "stream",
     "text": [
      "Variance for b): 68.26666666666668\n"
     ]
    }
   ],
   "source": [
    "# b)\n",
    "sample = np.array([18, 22, 25, 30, 35, 40])\n",
    "var = np.var(sample, ddof=1)  # use ddof of 1 because sample\n",
    "print(f'Variance for b): {var}')"
   ]
  },
  {
   "cell_type": "code",
   "execution_count": 7,
   "metadata": {},
   "outputs": [
    {
     "name": "stdout",
     "output_type": "stream",
     "text": [
      "Variance for a): 8.0\n"
     ]
    }
   ],
   "source": [
    "# 4)\n",
    "\n",
    "# a)\n",
    "sample = np.array([12, 14, 16, 18, 20])\n",
    "var = np.var(sample, ddof=0)  # use ddof 0 for population\n",
    "print(f'Variance for a): {var}')"
   ]
  },
  {
   "cell_type": "code",
   "execution_count": 8,
   "metadata": {},
   "outputs": [
    {
     "name": "stdout",
     "output_type": "stream",
     "text": [
      "Variance for b): 46.666666666666664\n"
     ]
    }
   ],
   "source": [
    "# b)\n",
    "sample = np.array([28, 32, 36, 40, 44, 48])\n",
    "var = np.var(sample, ddof=0)  # use ddof 0 for population\n",
    "print(f'Variance for b): {var}')"
   ]
  },
  {
   "cell_type": "markdown",
   "metadata": {},
   "source": [
    "5)\n",
    "a): They key difference between empirical and population variance calculations is when calculation the empirical variance, the denominator used is n-1 while for the population variance the denominator used is n <br>\n",
    "b): An example of where you would want to use population variance over empirical variance is for example if you wanted to find the variance of the ages of kids in a specific class. However, if you wanted to find the variance in ages for an entire school, it would be better to take a sample of kids' ages and then use the empirical variance in your calculation."
   ]
  },
  {
   "cell_type": "code",
   "execution_count": null,
   "metadata": {},
   "outputs": [],
   "source": []
  }
 ],
 "metadata": {
  "kernelspec": {
   "display_name": "ds",
   "language": "python",
   "name": "python3"
  },
  "language_info": {
   "codemirror_mode": {
    "name": "ipython",
    "version": 3
   },
   "file_extension": ".py",
   "mimetype": "text/x-python",
   "name": "python",
   "nbconvert_exporter": "python",
   "pygments_lexer": "ipython3",
   "version": "3.11.7"
  }
 },
 "nbformat": 4,
 "nbformat_minor": 2
}
