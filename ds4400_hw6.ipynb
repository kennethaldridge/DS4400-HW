{
 "cells": [
  {
   "cell_type": "code",
   "execution_count": 1,
   "metadata": {},
   "outputs": [],
   "source": [
    "from numpy import genfromtxt\n",
    "from sklearn.model_selection import train_test_split\n",
    "from sklearn.preprocessing import MinMaxScaler\n",
    "import numpy as np\n",
    "from sklearn.linear_model import LogisticRegression\n",
    "from scipy.integrate import quad \n",
    "import matplotlib.pyplot as plt"
   ]
  },
  {
   "cell_type": "markdown",
   "metadata": {},
   "source": [
    "# Question 2"
   ]
  },
  {
   "cell_type": "markdown",
   "metadata": {},
   "source": [
    "### 1)"
   ]
  },
  {
   "cell_type": "code",
   "execution_count": 2,
   "metadata": {},
   "outputs": [],
   "source": [
    "X = genfromtxt('job_right_out_of_college_X.csv', delimiter=',')\n",
    "y = genfromtxt('job_right_out_of_college_y.csv', delimiter=',')\n",
    "\n",
    "X_train, X_rest, y_train, y_rest = train_test_split(X, y, test_size=0.2)\n",
    "X_test, X_val, y_test, y_val = train_test_split(X_rest, y_rest, test_size=0.5)"
   ]
  },
  {
   "cell_type": "markdown",
   "metadata": {},
   "source": [
    "### 2)"
   ]
  },
  {
   "cell_type": "code",
   "execution_count": 3,
   "metadata": {},
   "outputs": [],
   "source": [
    "scaler = MinMaxScaler()\n",
    "X_train = scaler.fit_transform(X_train)\n",
    "X_val = scaler.transform(X_val) \n",
    "X_test = scaler.transform(X_test)"
   ]
  },
  {
   "cell_type": "markdown",
   "metadata": {},
   "source": [
    "### 3)"
   ]
  },
  {
   "cell_type": "code",
   "execution_count": 4,
   "metadata": {},
   "outputs": [],
   "source": [
    "def accuracy_func(predictions, y):\n",
    "    return np.mean(predictions == y)\n",
    "\n",
    "# Logistic Regression\n",
    "def f_prime(w, phi, y, l1_lambda):\n",
    "    return 1/len(phi) * phi.T @ (sigmoid(phi, w) - y) + (l1_lambda * np.sign(w))\n",
    "\n",
    "def sigmoid(phi, w):\n",
    "    return 1/(1 + np.exp(-phi @ w))\n",
    "\n",
    "def gradient_descent(phi, y, w, eta, num_iterations, l1_lambda):\n",
    "\tfor i in range(num_iterations):\n",
    "\t\tw = w - eta * f_prime(w, phi, y, l1_lambda)  \n",
    "            \n",
    "\treturn w\n",
    "\n",
    "def log_reg_pred(phi, w):\n",
    "      return np.where(sigmoid(phi, w) >= 0.5, 1, 0)\n",
    "\n",
    "\n",
    "def run_lambda_values(w0, X, y, lambdas, eta):\n",
    "    best_acc = -np.inf  # store initial accuracy as high value\n",
    "    best_lambda = None\n",
    "    best_w = w0\n",
    "\n",
    "\n",
    "    for l1_lambda in lambdas:\n",
    "        w = gradient_descent(X, y, w0, eta, 10000, l1_lambda)\n",
    "\n",
    "        predictions = log_reg_pred(X, w)\n",
    "        acc = accuracy_func(predictions, y)\n",
    "\n",
    "        if acc > best_acc:  # if new accuracy is better, store value\n",
    "            best_acc = acc\n",
    "            best_lambda = l1_lambda\n",
    "            best_w = w\n",
    "\n",
    "    return best_w, best_lambda, best_acc"
   ]
  },
  {
   "cell_type": "code",
   "execution_count": 5,
   "metadata": {},
   "outputs": [
    {
     "name": "stdout",
     "output_type": "stream",
     "text": [
      "Accuracy: 0.915\n",
      "Weights: [-3.18895519 -0.50376197  0.42557951 -0.78800523  1.34189053 -1.35521108\n",
      "  3.31672326  1.41741807]\n",
      "Lambda: 1e-10\n"
     ]
    }
   ],
   "source": [
    "# Logistic Regression\n",
    "phi = np.hstack((np.ones((X_train.shape[0], 1)), X_train))\n",
    "\n",
    "w0 = np.zeros(phi.shape[1])\n",
    "eta = 0.01\n",
    "lambda_values = np.logspace(-10, 10, 30) \n",
    "\n",
    "w, l1_lambda, acc = run_lambda_values(w0, phi, y_train, lambda_values, eta)\n",
    "\n",
    "print(f\"Accuracy: {acc}\")\n",
    "print(f'Weights: {w}')\n",
    "print(f\"Lambda: {l1_lambda}\")"
   ]
  },
  {
   "cell_type": "code",
   "execution_count": 6,
   "metadata": {},
   "outputs": [
    {
     "name": "stdout",
     "output_type": "stream",
     "text": [
      "Test Accuracy: 0.93\n"
     ]
    }
   ],
   "source": [
    "# Test accuracy\n",
    "test_phi = np.hstack((np.ones((X_test.shape[0], 1)), X_test))\n",
    "\n",
    "test_predictions = log_reg_pred(test_phi, w)\n",
    "test_acc = accuracy_func(test_predictions, y_test)\n",
    "\n",
    "print(f'Test Accuracy: {test_acc}')"
   ]
  },
  {
   "cell_type": "markdown",
   "metadata": {},
   "source": [
    "### 4)"
   ]
  },
  {
   "cell_type": "markdown",
   "metadata": {},
   "source": [
    "The Factors Sorted on Importance: Number of Internships, Fitness Level, Being in a Serious Relationship, Graduate in Good Economic Condtion, Having a Large Social Network, College GPA, Height  \n",
    "\n",
    "Positive Factors Sorted on Importance: Number of Internships, Serious Relationship, Height"
   ]
  },
  {
   "cell_type": "markdown",
   "metadata": {},
   "source": [
    "### 5)"
   ]
  },
  {
   "cell_type": "code",
   "execution_count": 7,
   "metadata": {},
   "outputs": [
    {
     "name": "stdout",
     "output_type": "stream",
     "text": [
      "SKLearn w: [[ 0.53822511  4.8677956  -0.06579043  7.08853161 -3.10250227 15.40268677\n",
      "   6.07223662]]\n",
      "SKLearn Test Accuracy: 0.99\n"
     ]
    }
   ],
   "source": [
    "clf = LogisticRegression(penalty='l1', random_state=0, solver='liblinear').fit(X_train, y_train)\n",
    "print(f'SKLearn w: {clf.coef_}')\n",
    "\n",
    "test_predictions = clf.predict(X_test)\n",
    "test_acc = accuracy_func(test_predictions, y_test)\n",
    "print(f'SKLearn Test Accuracy: {test_acc}')"
   ]
  },
  {
   "cell_type": "markdown",
   "metadata": {},
   "source": [
    "SKLearn Was More Accurate.\n",
    "\n",
    "The Factors Sorted on Importance (SKLearn): Good Economic Condtion, Large Social Network, Number of Internships, College GPA, Serious Relationship, Fitness Level, Height  \n",
    "Positive Factors Sorted on Importance (SKLearn): Good Economic Condtion, Large Social Network, Number of Internships, College GPA, Fitness Level\n",
    "\n",
    "My weights were pretty different than SKLearn. My weights have a Good Eocnomic Condition as a negative impact, where as SKLearn's weights regard it the most signficant positive weight."
   ]
  },
  {
   "cell_type": "markdown",
   "metadata": {},
   "source": [
    "# Question 3"
   ]
  },
  {
   "cell_type": "code",
   "execution_count": 8,
   "metadata": {},
   "outputs": [],
   "source": [
    "def p_m(x):\n",
    "    return np.where(x>=40000, np.exp(-(x-40000)), 0)\n",
    "\n",
    "def p_e(x):\n",
    "    return np.where((x >= 30000) & (x <= 180000), 1/150000, 0)\n",
    "\n",
    "def p_a(x):\n",
    "    return (1/(3000*np.sqrt(2*np.pi))) * np.exp(-((x-60000)**2)/(2*(3000)**2))"
   ]
  },
  {
   "cell_type": "code",
   "execution_count": 9,
   "metadata": {},
   "outputs": [],
   "source": [
    "def entropy_m(x):\n",
    "        px = max(p_m(x), 1e-10)\n",
    "        \n",
    "        return -px * np.log(px)\n",
    "\n",
    "def entropy_e(x):\n",
    "        px = p_e(x)\n",
    "        \n",
    "        return -px * np.log(px)\n",
    "\n",
    "def entropy_a(x):\n",
    "        px = max(p_a(x), 1e-10)\n",
    "        \n",
    "        return -px * np.log(px)"
   ]
  },
  {
   "cell_type": "markdown",
   "metadata": {},
   "source": [
    "### 1)"
   ]
  },
  {
   "cell_type": "code",
   "execution_count": 10,
   "metadata": {},
   "outputs": [
    {
     "name": "stdout",
     "output_type": "stream",
     "text": [
      "Max Entropy (Python Integration): 0.9999999425376033\n",
      "Ella Entropy (Python Integration): 11.918390573078392\n",
      "Anushka Entropy (Python Integration): 9.424173757654117\n"
     ]
    }
   ],
   "source": [
    "entropy_m, err = quad(entropy_m, 40000, np.inf)\n",
    "entropy_e, err = quad(entropy_e, 30000, 180000)\n",
    "\n",
    "a_min = 60000 - 4 * 3000\n",
    "a_max = 60000 + 4 * 3000\n",
    "entropy_a, err = quad(entropy_a, a_min, a_max)\n",
    "\n",
    "print(f'Max Entropy (Python Integration): {entropy_m}')\n",
    "print(f'Ella Entropy (Python Integration): {entropy_e}')\n",
    "print(f'Anushka Entropy (Python Integration): {entropy_a}')"
   ]
  },
  {
   "cell_type": "markdown",
   "metadata": {},
   "source": [
    "### 2)"
   ]
  },
  {
   "cell_type": "code",
   "execution_count": 11,
   "metadata": {},
   "outputs": [],
   "source": [
    "def sampling_entropy(x, p):\n",
    "    px = p(x)\n",
    "\n",
    "    return -np.log(px)"
   ]
  },
  {
   "cell_type": "code",
   "execution_count": 12,
   "metadata": {},
   "outputs": [
    {
     "name": "stdout",
     "output_type": "stream",
     "text": [
      "Max Entropy (Sampling): 1.004373852956468\n"
     ]
    }
   ],
   "source": [
    "# Max\n",
    "# exponential distribution\n",
    "samples = np.random.exponential(scale=1, size=10000) + 40000  # distribution with mean of 1 and moved 40000 to the right\n",
    "\n",
    "entropy_m_sampling = np.mean(sampling_entropy(samples, p_m))\n",
    "print(f'Max Entropy (Sampling): {entropy_m_sampling}')"
   ]
  },
  {
   "cell_type": "code",
   "execution_count": 13,
   "metadata": {},
   "outputs": [
    {
     "name": "stdout",
     "output_type": "stream",
     "text": [
      "Ella Entropy (Sampling): 11.918390573078398\n"
     ]
    }
   ],
   "source": [
    "# Ella\n",
    "# Uniform distribution\n",
    "samples = np.random.uniform(30000, 180000, 10000)\n",
    "\n",
    "entropy_e_sampling = np.mean(sampling_entropy(samples, p_e))\n",
    "print(f'Ella Entropy (Sampling): {entropy_e_sampling}')"
   ]
  },
  {
   "cell_type": "code",
   "execution_count": 14,
   "metadata": {},
   "outputs": [
    {
     "name": "stdout",
     "output_type": "stream",
     "text": [
      "Anushka Entropy (Sampling): 9.417107186300582\n"
     ]
    }
   ],
   "source": [
    "# Anuskha\n",
    "# Gaussian distribution\n",
    "samples = np.random.normal(loc=60000, scale=3000, size=10000)\n",
    "\n",
    "\n",
    "entropy_a_sampling = np.mean(sampling_entropy(samples, p_a))\n",
    "print(f'Anushka Entropy (Sampling): {entropy_a_sampling}')"
   ]
  },
  {
   "cell_type": "markdown",
   "metadata": {},
   "source": [
    "# Question 4"
   ]
  },
  {
   "cell_type": "code",
   "execution_count": 38,
   "metadata": {},
   "outputs": [
    {
     "data": {
      "image/png": "[encoded data removed]",
      "text/plain": [
       "<Figure size 640x480 with 1 Axes>"
      ]
     },
     "metadata": {},
     "output_type": "display_data"
    }
   ],
   "source": [
    "X = genfromtxt('hours_slept.csv', delimiter=',')\n",
    "Y = genfromtxt('how_much_is_remembered.csv', delimiter=',')\n",
    "\n",
    "plt.hist(X, 50, facecolor='blue', alpha=0.7, density=True)\n",
    "plt.show()"
   ]
  },
  {
   "cell_type": "code",
   "execution_count": 48,
   "metadata": {},
   "outputs": [
    {
     "data": {
      "image/png": "[encoded data removed]",
      "text/plain": [
       "<Figure size 640x480 with 1 Axes>"
      ]
     },
     "metadata": {},
     "output_type": "display_data"
    }
   ],
   "source": [
    "from scipy.stats import gaussian_kde\n",
    "\n",
    "kde_x = gaussian_kde(X)\n",
    "\n",
    "def p(x):\n",
    "    return kde_x(x)\n",
    "\n",
    "x = np.linspace(min(X), max(X), 1000)\n",
    "y = p(x)\n",
    "\n",
    "plt.hist(X, 40, facecolor='blue', alpha=0.7, density=True)\n",
    "plt.plot(x, y, color='red', linewidth=2)\n",
    "plt.show()"
   ]
  },
  {
   "cell_type": "markdown",
   "metadata": {},
   "source": [
    "### 1)"
   ]
  },
  {
   "cell_type": "code",
   "execution_count": 47,
   "metadata": {},
   "outputs": [],
   "source": [
    "# Use KDE for the data\n",
    "# from scipy.stats import norm\n",
    "\n",
    "# sd = 0.5\n",
    "# def kde_x(x, X):\n",
    "#     x = np.atleast_1d(x)\n",
    "#     pdf = np.sum(norm.pdf(x[:, None], X, sd), axis=1)\n",
    "\n",
    "#     pdf = pdf/len(X)\n",
    "#     return pdf\n",
    "\n",
    "# def p(x):\n",
    "#     y = kde_x(x, X)\n",
    "#     return y\n",
    "\n",
    "# x = np.linspace(min(X), max(X), 1000)\n",
    "# y = p(x)\n",
    "\n",
    "# plt.hist(X, 40, facecolor='blue', alpha=0.7, density=True)\n",
    "# plt.plot(x, y, color='red', linewidth=2)\n",
    "# plt.show()\n"
   ]
  },
  {
   "cell_type": "markdown",
   "metadata": {},
   "source": [
    "### 2)"
   ]
  },
  {
   "cell_type": "code",
   "execution_count": 55,
   "metadata": {},
   "outputs": [
    {
     "name": "stdout",
     "output_type": "stream",
     "text": [
      "50 Samples | Sample KL Divergence: 0.04582 | Integration KL Divergence: 0.04349\n",
      "100 Samples | Sample KL Divergence: 0.01915 | Integration KL Divergence: 0.04892\n",
      "150 Samples | Sample KL Divergence: 0.01642 | Integration KL Divergence: 0.07959\n",
      "200 Samples | Sample KL Divergence: 0.01443 | Integration KL Divergence: 0.06828\n",
      "250 Samples | Sample KL Divergence: 0.02688 | Integration KL Divergence: 0.05287\n",
      "300 Samples | Sample KL Divergence: 0.00554 | Integration KL Divergence: 0.03422\n",
      "350 Samples | Sample KL Divergence: 0.01461 | Integration KL Divergence: 0.03651\n",
      "400 Samples | Sample KL Divergence: 0.01130 | Integration KL Divergence: 0.05247\n",
      "450 Samples | Sample KL Divergence: 0.01438 | Integration KL Divergence: 0.03155\n",
      "500 Samples | Sample KL Divergence: 0.00913 | Integration KL Divergence: 0.04032\n"
     ]
    }
   ],
   "source": [
    "def KL_divergence(x, p2): \n",
    "    p_1 = p(x)\n",
    "    p_2 = p2(x)\n",
    "\n",
    "    return p_1*np.log(p_1/p_2)\n",
    "\n",
    "def KL_divergence_sample(x, q): \n",
    "    p_1 = p(x)\n",
    "    p_2 = q(x)\n",
    "\n",
    "    return np.mean(np.log(p_1/p_2))\n",
    "\n",
    "\n",
    "# samples_len = np.arange(50, 100001, 50)\n",
    "samples_len = np.arange(50, 501, 50)\n",
    "for num_samples in samples_len:\n",
    "    samples = np.random.choice(X, num_samples, replace=False)\n",
    "\n",
    "    kde_samples = gaussian_kde(samples)\n",
    "    def q(x):\n",
    "        return kde_samples(x)\n",
    "    \n",
    "    x_min, x_max = np.percentile(samples, [1, 99]) \n",
    "    integration_kl, error = quad(KL_divergence, x_min, x_max, args=(q,))\n",
    "\n",
    "    sampling_kl = KL_divergence_sample(samples, q)\n",
    "    print(f'{num_samples} Samples | Sample KL Divergence: {sampling_kl:.5f} | Integration KL Divergence: {integration_kl:.5f}')\n",
    "    \n",
    "    \n"
   ]
  },
  {
   "cell_type": "code",
   "execution_count": null,
   "metadata": {},
   "outputs": [
    {
     "data": {
      "text/plain": [
       "[<matplotlib.lines.Line2D at 0x254388bd3d0>]"
      ]
     },
     "execution_count": 54,
     "metadata": {},
     "output_type": "execute_result"
    },
    {
     "data": {
      "image/png": "[encoded data removed]",
      "text/plain": [
       "<Figure size 640x480 with 1 Axes>"
      ]
     },
     "metadata": {},
     "output_type": "display_data"
    }
   ],
   "source": [
    "samples = np.random.choice(X, 50)\n",
    "x = np.linspace(min(X), max(X), 1000)\n",
    "y = p(x, samples)\n",
    "\n",
    "plt.hist(X, 40, facecolor='blue', alpha=0.7, density=True)\n",
    "plt.plot(x, y, color='red', linewidth=2)"
   ]
  }
 ],
 "metadata": {
  "kernelspec": {
   "display_name": "ds",
   "language": "python",
   "name": "python3"
  },
  "language_info": {
   "codemirror_mode": {
    "name": "ipython",
    "version": 3
   },
   "file_extension": ".py",
   "mimetype": "text/x-python",
   "name": "python",
   "nbconvert_exporter": "python",
   "pygments_lexer": "ipython3",
   "version": "3.11.7"
  }
 },
 "nbformat": 4,
 "nbformat_minor": 2
}
