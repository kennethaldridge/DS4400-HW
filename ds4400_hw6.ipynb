{
 "cells": [
  {
   "cell_type": "code",
   "execution_count": 29,
   "metadata": {},
   "outputs": [],
   "source": [
    "from numpy import genfromtxt\n",
    "from sklearn.model_selection import train_test_split\n",
    "from sklearn.preprocessing import MinMaxScaler\n",
    "import numpy as np\n",
    "from sklearn.linear_model import LogisticRegression\n",
    "from scipy.integrate import quad \n",
    "import matplotlib.pyplot as plt"
   ]
  },
  {
   "cell_type": "markdown",
   "metadata": {},
   "source": [
    "# Question 2"
   ]
  },
  {
   "cell_type": "markdown",
   "metadata": {},
   "source": [
    "### 1)"
   ]
  },
  {
   "cell_type": "code",
   "execution_count": 75,
   "metadata": {},
   "outputs": [],
   "source": [
    "X = genfromtxt('job_right_out_of_college_X.csv', delimiter=',')\n",
    "y = genfromtxt('job_right_out_of_college_y.csv', delimiter=',')\n",
    "\n",
    "X_train, X_rest, y_train, y_rest = train_test_split(X, y, test_size=0.2)\n",
    "X_test, X_val, y_test, y_val = train_test_split(X_rest, y_rest, test_size=0.5)"
   ]
  },
  {
   "cell_type": "markdown",
   "metadata": {},
   "source": [
    "### 2)"
   ]
  },
  {
   "cell_type": "code",
   "execution_count": 76,
   "metadata": {},
   "outputs": [],
   "source": [
    "scaler = MinMaxScaler()\n",
    "X_train = scaler.fit_transform(X_train)\n",
    "X_val = scaler.transform(X_val) \n",
    "X_test = scaler.transform(X_test)"
   ]
  },
  {
   "cell_type": "markdown",
   "metadata": {},
   "source": [
    "### 3)"
   ]
  },
  {
   "cell_type": "code",
   "execution_count": 77,
   "metadata": {},
   "outputs": [],
   "source": [
    "def accuracy_func(predictions, y):\n",
    "    return np.mean(predictions == y)\n",
    "\n",
    "# Logistic Regression\n",
    "def f_prime(w, phi, y, l1_lambda):\n",
    "    return 1/len(phi) * phi.T @ (sigmoid(phi, w) - y) + (l1_lambda * np.sign(w))\n",
    "\n",
    "def sigmoid(phi, w):\n",
    "    return 1/(1 + np.exp(-phi @ w))\n",
    "\n",
    "def gradient_descent(phi, y, w, eta, num_iterations, l1_lambda):\n",
    "\tfor i in range(num_iterations):\n",
    "\t\tw = w - eta * f_prime(w, phi, y, l1_lambda)  \n",
    "            \n",
    "\treturn w\n",
    "\n",
    "def log_reg_pred(phi, w):\n",
    "      return np.where(sigmoid(phi, w) >= 0.5, 1, 0)\n",
    "\n",
    "\n",
    "def run_lambda_values(w0, X, y, lambdas, eta):\n",
    "    best_acc = -np.inf  # store initial accuracy as high value\n",
    "    best_lambda = None\n",
    "    best_w = w0\n",
    "\n",
    "\n",
    "    for l1_lambda in lambdas:\n",
    "        w = gradient_descent(X, y, w0, eta, 10000, l1_lambda)\n",
    "\n",
    "        predictions = log_reg_pred(X, w)\n",
    "        acc = accuracy_func(predictions, y)\n",
    "\n",
    "        if acc > best_acc:  # if new accuracy is better, store value\n",
    "            best_acc = acc\n",
    "            best_lambda = l1_lambda\n",
    "            best_w = w\n",
    "\n",
    "    return best_w, best_lambda, best_acc"
   ]
  },
  {
   "cell_type": "code",
   "execution_count": 81,
   "metadata": {},
   "outputs": [
    {
     "name": "stdout",
     "output_type": "stream",
     "text": [
      "Accuracy: 0.96625\n",
      "Lambda: 0.00016102620275609426 \n",
      "\n",
      "Fitness level: -8.3079\n",
      "Number of internships: 7.1963\n",
      "Serious relationship: 2.9844\n",
      "Height: 1.9526\n",
      "Economic condition: -1.9109\n",
      "Large social network: -0.7523\n",
      "College GPA: -0.0547\n"
     ]
    }
   ],
   "source": [
    "# Logistic Regression\n",
    "phi = np.hstack((np.ones((X_train.shape[0], 1)), X_train))\n",
    "\n",
    "w0 = np.zeros(phi.shape[1])\n",
    "eta = 0.05\n",
    "lambda_values = np.logspace(-10, 10, 30) \n",
    "\n",
    "w, l1_lambda, acc = run_lambda_values(w0, phi, y_train, lambda_values, eta)\n",
    "\n",
    "feature_names = [\n",
    "    \"Fitness level\",\n",
    "    \"College GPA\",\n",
    "    \"Height\",\n",
    "    \"Large social network\",\n",
    "    \"Serious relationship\",\n",
    "    \"Economic condition\",\n",
    "    \"Number of internships\"\n",
    "]\n",
    "\n",
    "sorted_w = w[:-1]\n",
    "\n",
    "sorted_indices = np.argsort(-np.abs(sorted_w))\n",
    "sorted_features = [feature_names[i] for i in sorted_indices]\n",
    "sorted_w = w[sorted_indices]\n",
    "\n",
    "print(f\"Accuracy: {acc}\")\n",
    "print(f\"Lambda: {l1_lambda} \\n\")\n",
    "\n",
    "for feature, weight in zip(sorted_features, sorted_w):\n",
    "    print(f\"{feature}: {weight:.4f}\")"
   ]
  },
  {
   "cell_type": "code",
   "execution_count": 55,
   "metadata": {},
   "outputs": [
    {
     "name": "stdout",
     "output_type": "stream",
     "text": [
      "Test Accuracy: 0.92\n"
     ]
    }
   ],
   "source": [
    "# Test accuracy\n",
    "test_phi = np.hstack((np.ones((X_test.shape[0], 1)), X_test))\n",
    "\n",
    "test_predictions = log_reg_pred(test_phi, w)\n",
    "test_acc = accuracy_func(test_predictions, y_test)\n",
    "\n",
    "print(f'Test Accuracy: {test_acc}')"
   ]
  },
  {
   "cell_type": "markdown",
   "metadata": {},
   "source": [
    "### 4)"
   ]
  },
  {
   "cell_type": "markdown",
   "metadata": {},
   "source": [
    "The Factors Sorted on Importance: Number of Internships, Fitness Level, Being in a Serious Relationship, Graduate in Good Economic Condtion, Having a Large Social Network, College GPA, Height  \n",
    "\n",
    "Positive Factors Sorted on Importance: Number of Internships, Serious Relationship, Height"
   ]
  },
  {
   "cell_type": "markdown",
   "metadata": {},
   "source": [
    "### 5)"
   ]
  },
  {
   "cell_type": "code",
   "execution_count": 67,
   "metadata": {},
   "outputs": [
    {
     "name": "stdout",
     "output_type": "stream",
     "text": [
      "SKLearn w: [[ 0.25698738  4.83547896 -0.34683428  7.23720142 -3.24044805 15.73191921\n",
      "   6.13897855]]\n",
      "SKLearn Test Accuracy: 0.98 \n",
      "\n",
      "Economic condition: 15.7319\n",
      "Large social network: 7.2372\n",
      "Number of internships: 6.1390\n",
      "College GPA: 4.8355\n",
      "Serious relationship: -3.2404\n",
      "Height: -0.3468\n",
      "Fitness level: 0.2570\n"
     ]
    }
   ],
   "source": [
    "clf = LogisticRegression(penalty='l1', random_state=0, solver='liblinear').fit(X_train, y_train)\n",
    "print(f'SKLearn w: {clf.coef_}')\n",
    "\n",
    "sklearn_w = clf.coef_.flatten()\n",
    "\n",
    "sklearn_sorted_indices = np.argsort(-np.abs(sklearn_w))\n",
    "sklearn_sorted_features = [feature_names[i] for i in sklearn_sorted_indices]\n",
    "sklearn_sorted_w = sklearn_w[sklearn_sorted_indices]\n",
    "\n",
    "test_predictions = clf.predict(X_test)\n",
    "test_acc = accuracy_func(test_predictions, y_test)\n",
    "print(f'SKLearn Test Accuracy: {test_acc} \\n')\n",
    "\n",
    "for feature, weight in zip(sklearn_sorted_features, sklearn_sorted_w):\n",
    "    print(f\"{feature}: {weight:.4f}\")"
   ]
  },
  {
   "cell_type": "markdown",
   "metadata": {},
   "source": [
    "SKLearn Was More Accurate.\n",
    "\n",
    "The Factors Sorted on Importance (SKLearn): Good Economic Condtion, Large Social Network, Number of Internships, College GPA, Serious Relationship, Fitness Level, Height  \n",
    "Positive Factors Sorted on Importance (SKLearn): Good Economic Condtion, Large Social Network, Number of Internships, College GPA, Fitness Level\n",
    "\n",
    "My weights were pretty different than SKLearn. My weights have a Good Eocnomic Condition as a negative impact, where as SKLearn's weights regard it the most signficant positive weight."
   ]
  },
  {
   "cell_type": "markdown",
   "metadata": {},
   "source": [
    "# Question 3"
   ]
  },
  {
   "cell_type": "code",
   "execution_count": 8,
   "metadata": {},
   "outputs": [],
   "source": [
    "def p_m(x):\n",
    "    return np.where(x>=40000, np.exp(-(x-40000)), 0)\n",
    "\n",
    "def p_e(x):\n",
    "    return np.where((x >= 30000) & (x <= 180000), 1/150000, 0)\n",
    "\n",
    "def p_a(x):\n",
    "    return (1/(3000*np.sqrt(2*np.pi))) * np.exp(-((x-60000)**2)/(2*(3000)**2))"
   ]
  },
  {
   "cell_type": "code",
   "execution_count": 9,
   "metadata": {},
   "outputs": [],
   "source": [
    "def entropy_m(x):\n",
    "        px = max(p_m(x), 1e-10)\n",
    "        \n",
    "        return -px * np.log(px)\n",
    "\n",
    "def entropy_e(x):\n",
    "        px = p_e(x)\n",
    "        \n",
    "        return -px * np.log(px)\n",
    "\n",
    "def entropy_a(x):\n",
    "        px = max(p_a(x), 1e-10)\n",
    "        \n",
    "        return -px * np.log(px)"
   ]
  },
  {
   "cell_type": "markdown",
   "metadata": {},
   "source": [
    "### 1)"
   ]
  },
  {
   "cell_type": "code",
   "execution_count": 10,
   "metadata": {},
   "outputs": [
    {
     "name": "stdout",
     "output_type": "stream",
     "text": [
      "Max Entropy (Python Integration): 0.9999999425376033\n",
      "Ella Entropy (Python Integration): 11.918390573078392\n",
      "Anushka Entropy (Python Integration): 9.424173757654117\n"
     ]
    }
   ],
   "source": [
    "entropy_m, err = quad(entropy_m, 40000, np.inf)\n",
    "entropy_e, err = quad(entropy_e, 30000, 180000)\n",
    "\n",
    "a_min = 60000 - 4 * 3000\n",
    "a_max = 60000 + 4 * 3000\n",
    "entropy_a, err = quad(entropy_a, a_min, a_max)\n",
    "\n",
    "print(f'Max Entropy (Python Integration): {entropy_m}')\n",
    "print(f'Ella Entropy (Python Integration): {entropy_e}')\n",
    "print(f'Anushka Entropy (Python Integration): {entropy_a}')"
   ]
  },
  {
   "cell_type": "markdown",
   "metadata": {},
   "source": [
    "### 2)"
   ]
  },
  {
   "cell_type": "code",
   "execution_count": 11,
   "metadata": {},
   "outputs": [],
   "source": [
    "def sampling_entropy(x, p):\n",
    "    px = p(x)\n",
    "\n",
    "    return -np.log(px)"
   ]
  },
  {
   "cell_type": "code",
   "execution_count": 12,
   "metadata": {},
   "outputs": [
    {
     "name": "stdout",
     "output_type": "stream",
     "text": [
      "Max Entropy (Sampling): 1.004373852956468\n"
     ]
    }
   ],
   "source": [
    "# Max\n",
    "# exponential distribution\n",
    "samples = np.random.exponential(scale=1, size=10000) + 40000  # distribution with mean of 1 and moved 40000 to the right\n",
    "\n",
    "entropy_m_sampling = np.mean(sampling_entropy(samples, p_m))\n",
    "print(f'Max Entropy (Sampling): {entropy_m_sampling}')"
   ]
  },
  {
   "cell_type": "code",
   "execution_count": 13,
   "metadata": {},
   "outputs": [
    {
     "name": "stdout",
     "output_type": "stream",
     "text": [
      "Ella Entropy (Sampling): 11.918390573078398\n"
     ]
    }
   ],
   "source": [
    "# Ella\n",
    "# Uniform distribution\n",
    "samples = np.random.uniform(30000, 180000, 10000)\n",
    "\n",
    "entropy_e_sampling = np.mean(sampling_entropy(samples, p_e))\n",
    "print(f'Ella Entropy (Sampling): {entropy_e_sampling}')"
   ]
  },
  {
   "cell_type": "code",
   "execution_count": 14,
   "metadata": {},
   "outputs": [
    {
     "name": "stdout",
     "output_type": "stream",
     "text": [
      "Anushka Entropy (Sampling): 9.417107186300582\n"
     ]
    }
   ],
   "source": [
    "# Anuskha\n",
    "# Gaussian distribution\n",
    "samples = np.random.normal(loc=60000, scale=3000, size=10000)\n",
    "\n",
    "\n",
    "entropy_a_sampling = np.mean(sampling_entropy(samples, p_a))\n",
    "print(f'Anushka Entropy (Sampling): {entropy_a_sampling}')"
   ]
  },
  {
   "cell_type": "markdown",
   "metadata": {},
   "source": [
    "# Question 4"
   ]
  },
  {
   "cell_type": "code",
   "execution_count": 83,
   "metadata": {},
   "outputs": [
    {
     "data": {
      "image/png": "[encoded data removed]",
      "text/plain": [
       "<Figure size 640x480 with 1 Axes>"
      ]
     },
     "metadata": {},
     "output_type": "display_data"
    }
   ],
   "source": [
    "X = genfromtxt('hours_slept.csv', delimiter=',')\n",
    "Y = genfromtxt('how_much_is_remembered.csv', delimiter=',')\n",
    "\n",
    "plt.hist(X, 50, facecolor='blue', alpha=0.7, density=True)\n",
    "plt.show()"
   ]
  },
  {
   "cell_type": "code",
   "execution_count": 6,
   "metadata": {},
   "outputs": [],
   "source": [
    "# from scipy.stats import gaussian_kde\n",
    "\n",
    "# kde_x = gaussian_kde(X)\n",
    "\n",
    "# def p(x):\n",
    "#     return kde_x(x)\n",
    "\n",
    "# x = np.linspace(min(X), max(X), 1000)\n",
    "# y = p(x)\n",
    "\n",
    "# plt.hist(X, 40, facecolor='blue', alpha=0.7, density=True)\n",
    "# plt.plot(x, y, color='red', linewidth=2)\n",
    "# plt.show()"
   ]
  },
  {
   "cell_type": "markdown",
   "metadata": {},
   "source": [
    "### 1)"
   ]
  },
  {
   "cell_type": "code",
   "execution_count": 84,
   "metadata": {},
   "outputs": [
    {
     "data": {
      "image/png": "[encoded data removed]",
      "text/plain": [
       "<Figure size 640x480 with 1 Axes>"
      ]
     },
     "metadata": {},
     "output_type": "display_data"
    }
   ],
   "source": [
    "# Use KDE for the data\n",
    "from scipy.stats import norm\n",
    "\n",
    "sd = 0.3\n",
    "def kde_x(x, X):\n",
    "    x = np.atleast_1d(x)\n",
    "    pdf = np.sum(norm.pdf(x[:, None], X, sd), axis=1)\n",
    "\n",
    "    pdf = pdf/len(X)\n",
    "    return pdf\n",
    "\n",
    "def p(x):\n",
    "    y = kde_x(x, X)\n",
    "    return y\n",
    "\n",
    "x = np.linspace(min(X), max(X), 1000)\n",
    "y = p(x)\n",
    "\n",
    "plt.hist(X, 40, facecolor='blue', alpha=0.7, density=True)\n",
    "plt.plot(x, y, color='red', linewidth=2)\n",
    "plt.show()\n"
   ]
  },
  {
   "cell_type": "code",
   "execution_count": 16,
   "metadata": {},
   "outputs": [
    {
     "data": {
      "image/png": "[encoded data removed]",
      "text/plain": [
       "<Figure size 640x480 with 1 Axes>"
      ]
     },
     "metadata": {},
     "output_type": "display_data"
    }
   ],
   "source": [
    "import matplotlib.pyplot as plt\n",
    "samples_x = np.random.choice(X, 500, replace=False)\n",
    "def q(x):\n",
    "        return kde_x(x, samples_x)\n",
    "\n",
    "x_range = np.linspace(min(X), max(X), 1000)\n",
    "p_vals = p(x_range)\n",
    "q_vals = q(x_range)\n",
    "\n",
    "plt.plot(x_range, p_vals, label=\"p(x) KDE\", color='blue')\n",
    "plt.plot(x_range, q_vals, label=\"q(x) KDE\", color='red')\n",
    "plt.legend()\n",
    "plt.show()"
   ]
  },
  {
   "cell_type": "markdown",
   "metadata": {},
   "source": [
    "### 2)"
   ]
  },
  {
   "cell_type": "code",
   "execution_count": 86,
   "metadata": {},
   "outputs": [
    {
     "name": "stdout",
     "output_type": "stream",
     "text": [
      "50 Samples | Sample KL Divergence: 0.03515 | Integration KL Divergence: 0.01081\n",
      "100 Samples | Sample KL Divergence: 0.03462 | Integration KL Divergence: 0.01170\n",
      "150 Samples | Sample KL Divergence: 0.02971 | Integration KL Divergence: 0.02376\n",
      "200 Samples | Sample KL Divergence: 0.02088 | Integration KL Divergence: 0.02077\n",
      "250 Samples | Sample KL Divergence: 0.02046 | Integration KL Divergence: 0.01275\n",
      "300 Samples | Sample KL Divergence: 0.00646 | Integration KL Divergence: 0.00535\n",
      "350 Samples | Sample KL Divergence: 0.02004 | Integration KL Divergence: 0.00046\n",
      "400 Samples | Sample KL Divergence: 0.02683 | Integration KL Divergence: 0.00929\n",
      "450 Samples | Sample KL Divergence: 0.00010 | Integration KL Divergence: 0.00742\n",
      "500 Samples | Sample KL Divergence: 0.00975 | Integration KL Divergence: 0.00505\n",
      "550 Samples | Sample KL Divergence: 0.02392 | Integration KL Divergence: 0.00019\n",
      "600 Samples | Sample KL Divergence: 0.00984 | Integration KL Divergence: 0.00814\n",
      "650 Samples | Sample KL Divergence: -0.00293 | Integration KL Divergence: 0.00624\n",
      "700 Samples | Sample KL Divergence: 0.00235 | Integration KL Divergence: 0.00731\n",
      "750 Samples | Sample KL Divergence: 0.00789 | Integration KL Divergence: 0.00896\n",
      "800 Samples | Sample KL Divergence: 0.00130 | Integration KL Divergence: 0.00435\n",
      "850 Samples | Sample KL Divergence: 0.01202 | Integration KL Divergence: 0.00683\n",
      "900 Samples | Sample KL Divergence: 0.00379 | Integration KL Divergence: 0.00430\n",
      "950 Samples | Sample KL Divergence: 0.01694 | Integration KL Divergence: 0.01225\n",
      "1000 Samples | Sample KL Divergence: 0.00009 | Integration KL Divergence: 0.00585\n",
      "1050 Samples | Sample KL Divergence: 0.01272 | Integration KL Divergence: 0.00321\n",
      "1100 Samples | Sample KL Divergence: 0.00840 | Integration KL Divergence: 0.00477\n",
      "1150 Samples | Sample KL Divergence: 0.00103 | Integration KL Divergence: 0.00132\n",
      "1200 Samples | Sample KL Divergence: 0.00609 | Integration KL Divergence: 0.00316\n",
      "1250 Samples | Sample KL Divergence: 0.00221 | Integration KL Divergence: 0.00069\n",
      "1300 Samples | Sample KL Divergence: 0.00065 | Integration KL Divergence: 0.00296\n",
      "1350 Samples | Sample KL Divergence: -0.00137 | Integration KL Divergence: 0.00244\n",
      "1400 Samples | Sample KL Divergence: -0.00108 | Integration KL Divergence: 0.00156\n",
      "1450 Samples | Sample KL Divergence: 0.00447 | Integration KL Divergence: 0.00105\n",
      "1500 Samples | Sample KL Divergence: 0.00411 | Integration KL Divergence: 0.00216\n",
      "1550 Samples | Sample KL Divergence: -0.00316 | Integration KL Divergence: 0.00451\n",
      "1600 Samples | Sample KL Divergence: 0.00180 | Integration KL Divergence: 0.00245\n",
      "1650 Samples | Sample KL Divergence: 0.00514 | Integration KL Divergence: 0.00316\n",
      "1700 Samples | Sample KL Divergence: 0.00181 | Integration KL Divergence: 0.00144\n",
      "1750 Samples | Sample KL Divergence: 0.00287 | Integration KL Divergence: 0.00280\n",
      "1800 Samples | Sample KL Divergence: 0.00103 | Integration KL Divergence: 0.00033\n",
      "1850 Samples | Sample KL Divergence: -0.00076 | Integration KL Divergence: 0.00052\n"
     ]
    }
   ],
   "source": [
    "def KL_divergence(x, p2): \n",
    "    p_1 = p(x) # np.log(np.maximum(p(x), 1e-10)) # p(x)\n",
    "    p_2 = p2(x) # np.log(np.maximum(p2(x), 1e-10)) # p2(x)\n",
    "\n",
    "    return p_1*np.log(p_1/p_2)\n",
    "\n",
    "def KL_divergence_sample(x, q): \n",
    "    p_1 = np.log(np.maximum(p(x), 1e-10)) # p(x)\n",
    "    p_2 = np.log(np.maximum(q(x), 1e-10)) \n",
    "\n",
    "    # p_2 = np.maximum(q(x), 0.00001)\n",
    "\n",
    "    return np.mean(np.log(p_1/p_2))\n",
    "\n",
    "\n",
    "dist_distance_list = []\n",
    "samples_len_list = []\n",
    "prev_kl = np.inf\n",
    "\n",
    "samples_len = np.arange(50, 100000, 50)\n",
    "for num_samples in samples_len:\n",
    "    samples_indices = np.random.choice(X.shape[0], num_samples, replace=False)\n",
    "    samples_x = X[samples_indices]\n",
    "\n",
    "    # kde_samples = gaussian_kde(samples_x)\n",
    "    def q(x):\n",
    "        return kde_x(x, samples_x)\n",
    "    \n",
    "    # x_min, x_max = np.percentile(samples, [1, 99]) \n",
    "    integration_kl, error = quad(KL_divergence, min(samples_x), max(samples_x), args=(q,))\n",
    "\n",
    "    sampling_kl = KL_divergence_sample(samples_x, q)\n",
    "    print(f'{num_samples} Samples | Sample KL Divergence: {sampling_kl:.5f} | Integration KL Divergence: {integration_kl:.5f}')\n",
    "\n",
    "    dist_distance_list.append(integration_kl)\n",
    "    samples_len_list.append(num_samples)\n",
    "\n",
    "    if abs(prev_kl - integration_kl) < 0.0005:\n",
    "        training_samples_x = samples_x\n",
    "        training_samples_y = Y[samples_indices]\n",
    "        break\n",
    "    else:\n",
    "        prev_kl = integration_kl"
   ]
  },
  {
   "cell_type": "code",
   "execution_count": 87,
   "metadata": {},
   "outputs": [
    {
     "data": {
      "image/png": "[encoded data removed]",
      "text/plain": [
       "<Figure size 640x480 with 1 Axes>"
      ]
     },
     "metadata": {},
     "output_type": "display_data"
    }
   ],
   "source": [
    "# Plot out decrease of KL Divergence\n",
    "plt.plot(samples_len_list, dist_distance_list)\n",
    "plt.show()"
   ]
  },
  {
   "cell_type": "code",
   "execution_count": 88,
   "metadata": {},
   "outputs": [
    {
     "name": "stdout",
     "output_type": "stream",
     "text": [
      "MSE using sample set 0.007491725164276625\n",
      "N Sub: 1850\n",
      "Percentage of Total: 0.0185\n"
     ]
    }
   ],
   "source": [
    "from sklearn.linear_model import LinearRegression\n",
    "import matplotlib.pyplot as plt\n",
    "\n",
    "def mse_func(phi, w, y):\n",
    "    return np.mean((phi.dot(w) - y)**2)\n",
    "\n",
    "# train regression on samples\n",
    "training_samples_x = training_samples_x.reshape(-1, 1)\n",
    "# reg = LinearRegression().fit(training_samples_x, training_samples_y)\n",
    "\n",
    "# w = np.hstack((reg.coef_, reg.intercept_))  # get weights\n",
    "\n",
    "# Find w\n",
    "phi = np.hstack((training_samples_x, np.ones((len(training_samples_x), 1))))\n",
    "w = np.linalg.inv(phi.T @ phi) @ phi.T @ training_samples_y\n",
    "\n",
    "X = X.reshape(-1, 1)\n",
    "phi_X = np.hstack((X, np.ones((len(X), 1))))\n",
    "\n",
    "mse = mse_func(phi_X, w, Y)\n",
    "print(f'MSE using sample set {mse}')\n",
    "print(f'N Sub: {len(training_samples_x)}')\n",
    "print(f'Percentage of Total: {len(training_samples_x)/len(X)}')"
   ]
  }
 ],
 "metadata": {
  "kernelspec": {
   "display_name": "ds",
   "language": "python",
   "name": "python3"
  },
  "language_info": {
   "codemirror_mode": {
    "name": "ipython",
    "version": 3
   },
   "file_extension": ".py",
   "mimetype": "text/x-python",
   "name": "python",
   "nbconvert_exporter": "python",
   "pygments_lexer": "ipython3",
   "version": "3.11.7"
  }
 },
 "nbformat": 4,
 "nbformat_minor": 2
}
