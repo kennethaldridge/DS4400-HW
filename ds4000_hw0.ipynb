{
 "cells": [
  {
   "cell_type": "code",
   "execution_count": 1,
   "metadata": {},
   "outputs": [
    {
     "name": "stdout",
     "output_type": "stream",
     "text": [
      "Auto ᐁf : -2.041, Theoretical ᐁf -2.041\n",
      "Auto ᐁf : -1.257, Theoretical ᐁf -1.257\n",
      "Auto ᐁf : -3.603, Theoretical ᐁf -3.603\n",
      "Auto ᐁf : -3.463, Theoretical ᐁf -3.463\n",
      "Auto ᐁf : -5.840, Theoretical ᐁf -5.840\n",
      "Auto ᐁf : -3.064, Theoretical ᐁf -3.064\n",
      "Auto ᐁf : 3.026, Theoretical ᐁf 3.026\n",
      "Auto ᐁf : -1.999, Theoretical ᐁf -1.999\n",
      "Auto ᐁf : -2.596, Theoretical ᐁf -2.596\n",
      "Auto ᐁf : 1.365, Theoretical ᐁf 1.365\n"
     ]
    }
   ],
   "source": [
    "# Question 1\n",
    "# 1)\n",
    "import autograd.numpy as np\n",
    "from autograd.numpy import log as ln\n",
    "from autograd.numpy import exp\n",
    "from autograd import grad\n",
    "\n",
    "def f(x):\n",
    "    return 2*x**2 + 1\n",
    "\n",
    "def ᐁf(x):\n",
    "    return 4*x\n",
    "\n",
    "auto_grad = grad(f)\n",
    "\n",
    "for i in range(10):\n",
    "\tx = np.random.randn()\n",
    "\tprint('Auto ᐁf : %.3f, Theoretical ᐁf %.3f'%(auto_grad(x), ᐁf(x)))"
   ]
  },
  {
   "cell_type": "code",
   "execution_count": 2,
   "metadata": {},
   "outputs": [
    {
     "name": "stdout",
     "output_type": "stream",
     "text": [
      "Auto ᐁf : -1.883, Theoretical ᐁf -1.883\n",
      "Auto ᐁf : 1.035, Theoretical ᐁf 1.035\n",
      "Auto ᐁf : 7.457, Theoretical ᐁf 7.457\n",
      "Auto ᐁf : -0.487, Theoretical ᐁf -0.487\n",
      "Auto ᐁf : 1.191, Theoretical ᐁf 1.191\n",
      "Auto ᐁf : 2.189, Theoretical ᐁf 2.189\n",
      "Auto ᐁf : 9468.774, Theoretical ᐁf 9468.774\n",
      "Auto ᐁf : -1.297, Theoretical ᐁf -1.297\n",
      "Auto ᐁf : 16.114, Theoretical ᐁf 16.114\n",
      "Auto ᐁf : -1.321, Theoretical ᐁf -1.321\n"
     ]
    }
   ],
   "source": [
    "# 2 \n",
    "def f(x):\n",
    "    return exp(x**2)\n",
    "\n",
    "def ᐁf(x):\n",
    "    return 2*x*exp(x**2)\n",
    "\n",
    "auto_grad = grad(f)\n",
    "\n",
    "for i in range(10):\n",
    "\tx = np.random.randn()\n",
    "\tprint('Auto ᐁf : %.3f, Theoretical ᐁf %.3f'%(auto_grad(x), ᐁf(x)))"
   ]
  },
  {
   "cell_type": "code",
   "execution_count": 3,
   "metadata": {},
   "outputs": [
    {
     "name": "stdout",
     "output_type": "stream",
     "text": [
      "Auto ᐁf : -36.757, Theoretical ᐁf -36.757\n",
      "Auto ᐁf : -5.876, Theoretical ᐁf -5.876\n",
      "Auto ᐁf : -5.396, Theoretical ᐁf -5.396\n",
      "Auto ᐁf : -23.094, Theoretical ᐁf -23.094\n",
      "Auto ᐁf : -24.538, Theoretical ᐁf -24.538\n",
      "Auto ᐁf : -9.591, Theoretical ᐁf -9.591\n",
      "Auto ᐁf : -19.293, Theoretical ᐁf -19.293\n",
      "Auto ᐁf : -3.003, Theoretical ᐁf -3.003\n",
      "Auto ᐁf : -23.960, Theoretical ᐁf -23.960\n",
      "Auto ᐁf : -4.580, Theoretical ᐁf -4.580\n"
     ]
    }
   ],
   "source": [
    "# 3\n",
    "def f(x):\n",
    "    return (3*x-2)**2\n",
    "\n",
    "def ᐁf(x):\n",
    "    return 2*(3*x-2)*3\n",
    "\n",
    "auto_grad = grad(f)\n",
    "\n",
    "for i in range(10):\n",
    "\tx = np.random.randn()\n",
    "\tprint('Auto ᐁf : %.3f, Theoretical ᐁf %.3f'%(auto_grad(x), ᐁf(x)))"
   ]
  },
  {
   "cell_type": "code",
   "execution_count": 10,
   "metadata": {},
   "outputs": [
    {
     "name": "stdout",
     "output_type": "stream",
     "text": [
      "Auto ᐁf : -8.213, Theoretical ᐁf -8.213\n",
      "Auto ᐁf : 9.087, Theoretical ᐁf 9.087\n",
      "Auto ᐁf : -63.556, Theoretical ᐁf -63.556\n",
      "Auto ᐁf : -74.750, Theoretical ᐁf -74.750\n",
      "Auto ᐁf : -92.166, Theoretical ᐁf -92.166\n",
      "Auto ᐁf : -52.657, Theoretical ᐁf -52.657\n",
      "Auto ᐁf : -156.616, Theoretical ᐁf -156.616\n",
      "Auto ᐁf : -174.307, Theoretical ᐁf -174.307\n",
      "Auto ᐁf : -16.986, Theoretical ᐁf -16.986\n",
      "Auto ᐁf : -20.483, Theoretical ᐁf -20.483\n"
     ]
    }
   ],
   "source": [
    "# 4\n",
    "# use i=1, n=3; y1=2, y2=5, y3=3\n",
    "def f(x):\n",
    "    return (3*x-2)**2 + (3*x-5)**2 + (3*x-3)**2\n",
    "\n",
    "def ᐁf(x):\n",
    "    return 2*(3*x-2)*3 + 2*(3*x-5)*3 + 2*(3*x-3)*3\n",
    "\n",
    "auto_grad = grad(f)\n",
    "\n",
    "for i in range(10):\n",
    "\tx = np.random.randn()\n",
    "\tprint('Auto ᐁf : %.3f, Theoretical ᐁf %.3f'%(auto_grad(x), ᐁf(x)))"
   ]
  },
  {
   "cell_type": "code",
   "execution_count": 4,
   "metadata": {},
   "outputs": [
    {
     "name": "stdout",
     "output_type": "stream",
     "text": [
      "Auto ᐁf : -4.214, Theoretical ᐁf -4.214\n",
      "Auto ᐁf : 0.923, Theoretical ᐁf 0.923\n",
      "Auto ᐁf : -11.013, Theoretical ᐁf -11.013\n",
      "Auto ᐁf : 0.953, Theoretical ᐁf 0.953\n",
      "Auto ᐁf : 0.841, Theoretical ᐁf 0.841\n",
      "Auto ᐁf : 2.038, Theoretical ᐁf 2.038\n",
      "Auto ᐁf : 2.899, Theoretical ᐁf 2.899\n",
      "Auto ᐁf : 2.885, Theoretical ᐁf 2.885\n",
      "Auto ᐁf : 1.321, Theoretical ᐁf 1.321\n",
      "Auto ᐁf : 2.848, Theoretical ᐁf 2.848\n"
     ]
    },
    {
     "name": "stderr",
     "output_type": "stream",
     "text": [
      "c:\\Users\\kenne\\anaconda3\\envs\\ds\\Lib\\site-packages\\autograd\\tracer.py:48: RuntimeWarning: invalid value encountered in log\n",
      "  return f_raw(*args, **kwargs)\n"
     ]
    }
   ],
   "source": [
    "# 5\n",
    "def f(x):\n",
    "    return ln(1/x)/ln(2)\n",
    "\n",
    "def ᐁf(x):\n",
    "    return -(1/(x*ln(2)))\n",
    "\n",
    "auto_grad = grad(f)\n",
    "\n",
    "for i in range(10):\n",
    "\tx = np.random.randn()\n",
    "\tprint('Auto ᐁf : %.3f, Theoretical ᐁf %.3f'%(auto_grad(x), ᐁf(x)))"
   ]
  },
  {
   "cell_type": "code",
   "execution_count": 5,
   "metadata": {},
   "outputs": [
    {
     "name": "stdout",
     "output_type": "stream",
     "text": [
      "Auto ᐁf : -9.499, Theoretical ᐁf -9.499\n",
      "Auto ᐁf : -0.877, Theoretical ᐁf -0.877\n",
      "Auto ᐁf : -1.116, Theoretical ᐁf -1.116\n",
      "Auto ᐁf : -0.974, Theoretical ᐁf -0.974\n",
      "Auto ᐁf : -13.038, Theoretical ᐁf -13.038\n",
      "Auto ᐁf : -3.716, Theoretical ᐁf -3.716\n",
      "Auto ᐁf : -4.529, Theoretical ᐁf -4.529\n",
      "Auto ᐁf : -3.060, Theoretical ᐁf -3.060\n",
      "Auto ᐁf : -1.192, Theoretical ᐁf -1.192\n",
      "Auto ᐁf : -1.376, Theoretical ᐁf -1.376\n"
     ]
    }
   ],
   "source": [
    "# 6\n",
    "def f(x):\n",
    "    return ln((x-2)**2)/ln(2)\n",
    "\n",
    "def ᐁf(x):\n",
    "    return 2/((x-2)*ln(2))\n",
    "\n",
    "auto_grad = grad(f)\n",
    "\n",
    "for i in range(10):\n",
    "\tx = np.random.randn()\n",
    "\tprint('Auto ᐁf : %.3f, Theoretical ᐁf %.3f'%(auto_grad(x), ᐁf(x)))"
   ]
  },
  {
   "cell_type": "code",
   "execution_count": 6,
   "metadata": {},
   "outputs": [
    {
     "name": "stdout",
     "output_type": "stream",
     "text": [
      "Area = 1.6667\n"
     ]
    }
   ],
   "source": [
    "# Question 2\n",
    "# 1\n",
    "from scipy.integrate import quad\n",
    "\n",
    "def f(x):\n",
    "    return 2*x**2 + 1\n",
    "\n",
    "A, err = quad(f, 0, 1)\n",
    "print('Area = %.4f'%A)"
   ]
  },
  {
   "cell_type": "code",
   "execution_count": 7,
   "metadata": {},
   "outputs": [
    {
     "name": "stdout",
     "output_type": "stream",
     "text": [
      "Area = 1.7183\n"
     ]
    }
   ],
   "source": [
    "# 2\n",
    "def f(x):\n",
    "    return exp(x)\n",
    "\n",
    "A, err = quad(f, 0, 1)\n",
    "print('Area = %.4f'%A)"
   ]
  },
  {
   "cell_type": "code",
   "execution_count": 8,
   "metadata": {},
   "outputs": [
    {
     "name": "stdout",
     "output_type": "stream",
     "text": [
      "Area = 1.0000\n"
     ]
    }
   ],
   "source": [
    "# 3\n",
    "def f(x):\n",
    "    return (3*x-2)**2\n",
    "\n",
    "A, err = quad(f, 0, 1)\n",
    "print('Area = %.4f'%A)"
   ]
  },
  {
   "cell_type": "code",
   "execution_count": 9,
   "metadata": {},
   "outputs": [
    {
     "name": "stdout",
     "output_type": "stream",
     "text": [
      "Area = 2.6321\n"
     ]
    }
   ],
   "source": [
    "# 4\n",
    "def f(x):\n",
    "    return exp(-x) + 2*x + 1\n",
    "\n",
    "A, err = quad(f, 0, 1)\n",
    "print('Area = %.4f'%A)"
   ]
  }
 ],
 "metadata": {
  "kernelspec": {
   "display_name": "ds",
   "language": "python",
   "name": "python3"
  },
  "language_info": {
   "codemirror_mode": {
    "name": "ipython",
    "version": 3
   },
   "file_extension": ".py",
   "mimetype": "text/x-python",
   "name": "python",
   "nbconvert_exporter": "python",
   "pygments_lexer": "ipython3",
   "version": "3.11.7"
  }
 },
 "nbformat": 4,
 "nbformat_minor": 2
}
